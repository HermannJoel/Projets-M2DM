{
  "nbformat": 4,
  "nbformat_minor": 0,
  "metadata": {
    "colab": {
      "name": "Text-Mining-TD1.ipynb",
      "provenance": [],
      "collapsed_sections": [],
      "authorship_tag": "ABX9TyOKV9/WQQ6rZ+vYyLNBtb54",
      "include_colab_link": true
    },
    "kernelspec": {
      "name": "python3",
      "display_name": "Python 3"
    },
    "language_info": {
      "name": "python"
    }
  },
  "cells": [
    {
      "cell_type": "markdown",
      "metadata": {
        "id": "view-in-github",
        "colab_type": "text"
      },
      "source": [
        "<a href=\"https://colab.research.google.com/github/HermannJoel/Projets-M2DM/blob/main/Text_Mining_TD1.ipynb\" target=\"_parent\"><img src=\"https://colab.research.google.com/assets/colab-badge.svg\" alt=\"Open In Colab\"/></a>"
      ]
    },
    {
      "cell_type": "markdown",
      "source": [
        "## TD-1"
      ],
      "metadata": {
        "id": "32RtuPM8iCAk"
      }
    },
    {
      "cell_type": "code",
      "execution_count": 2,
      "metadata": {
        "id": "rOO5oXsE-UMT"
      },
      "outputs": [],
      "source": [
        "# Packages\n",
        "import pandas as pd\n",
        "import numpy as np\n",
        "import json\n",
        "from zipfile import ZipFile\n",
        "from pandas import DataFrame\n",
        "import re\n",
        "from sklearn.feature_extraction.text import CountVectorizer\n",
        "import string\n",
        "from nltk.stem import PorterStemmer\n",
        "from nltk.stem import SnowballStemmer\n",
        "from nltk.tokenize import word_tokenize\n",
        "np.set_printoptions(precision=3)\n",
        "import math"
      ]
    },
    {
      "cell_type": "code",
      "source": [
        "# Accès au drive dans lequel se trouvent les données\n",
        "from google.colab import drive\n",
        "\n",
        "drive.mount('/content/drive')"
      ],
      "metadata": {
        "colab": {
          "base_uri": "https://localhost:8080/"
        },
        "id": "Lu3buMeX-Vk-",
        "outputId": "3f07ac9f-90ac-4cdc-d131-0d7c0b16a2cf"
      },
      "execution_count": 2,
      "outputs": [
        {
          "output_type": "stream",
          "name": "stdout",
          "text": [
            "Mounted at /content/drive\n"
          ]
        }
      ]
    },
    {
      "cell_type": "markdown",
      "source": [
        "### EXERCICE 1: ACQUISITION DES DONNEES"
      ],
      "metadata": {
        "id": "FJ4Kd_LPiQDm"
      }
    },
    {
      "cell_type": "code",
      "source": [
        "#on dezip le fichier zip contenant les donnéés\n",
        "zf = ZipFile('/content/drive/MyDrive/dblp.v10.zip', 'r')\n",
        "zf.extractall('/content/drive/MyDrive/')\n",
        "zf.close()"
      ],
      "metadata": {
        "id": "snKDZCo-_OL3"
      },
      "execution_count": 3,
      "outputs": []
    },
    {
      "cell_type": "code",
      "source": [
        "json_file_path = \"/content/drive/MyDrive/dblp-ref/dblp-ref_0.json\"\n",
        "files = []\n",
        "for line in open(json_file_path, 'r'):\n",
        "    files.append(json.loads(line))"
      ],
      "metadata": {
        "id": "oBuIVvobBXRD"
      },
      "execution_count": 4,
      "outputs": []
    },
    {
      "cell_type": "code",
      "source": [
        "#pour afficher les characteristiques de l'article 1\n",
        "files[0]"
      ],
      "metadata": {
        "colab": {
          "base_uri": "https://localhost:8080/"
        },
        "id": "-41jPTudPtMu",
        "outputId": "fd7fd4ea-1fa3-4e9a-e033-3bfd5d0c7e8d"
      },
      "execution_count": 12,
      "outputs": [
        {
          "output_type": "execute_result",
          "data": {
            "text/plain": [
              "{'abstract': 'The purpose of this study is to develop a learning tool for high school students studying the scientific aspects of information and communication net- works. More specifically, we focus on the basic principles of network proto- cols as the aim to develop our learning tool. Our tool gives students hands-on experience to help understand the basic principles of network protocols.',\n",
              " 'authors': ['Makoto Satoh',\n",
              "  'Ryo Muramatsu',\n",
              "  'Mizue Kayama',\n",
              "  'Kazunori Itoh',\n",
              "  'Masami Hashimoto',\n",
              "  'Makoto Otani',\n",
              "  'Michio Shimizu',\n",
              "  'Masahiko Sugimoto'],\n",
              " 'id': '00127ee2-cb05-48ce-bc49-9de556b93346',\n",
              " 'n_citation': 0,\n",
              " 'references': ['51c7e02e-f5ed-431a-8cf5-f761f266d4be',\n",
              "  '69b625b9-ebc5-4b60-b385-8a07945f5de9'],\n",
              " 'title': 'Preliminary Design of a Network Protocol Learning Tool Based on the Comprehension of High School Students: Design by an Empirical Study Using a Simple Mind Map',\n",
              " 'venue': 'international conference on human-computer interaction',\n",
              " 'year': 2013}"
            ]
          },
          "metadata": {},
          "execution_count": 12
        }
      ]
    },
    {
      "cell_type": "code",
      "source": [
        "#effectuer un dum des 100000 premier articles\n",
        "json.dumps(files[0:100000])"
      ],
      "metadata": {
        "id": "l4xB7nOKQ-E2"
      },
      "execution_count": 33,
      "outputs": []
    },
    {
      "cell_type": "code",
      "source": [
        "#transformation des 1000000 premiers articles en data-frame\n",
        "corpus_raw = DataFrame(files[0:100000])\n",
        "print(corpus_raw.shape)"
      ],
      "metadata": {
        "colab": {
          "base_uri": "https://localhost:8080/"
        },
        "id": "kpj3fIBgRU4V",
        "outputId": "aeb46af7-cdb6-455d-ea49-60cffea5e1e3"
      },
      "execution_count": 131,
      "outputs": [
        {
          "output_type": "stream",
          "name": "stdout",
          "text": [
            "(100000, 8)\n"
          ]
        }
      ]
    },
    {
      "cell_type": "code",
      "source": [
        "#to remove all \"abstract\" containing NaN\n",
        "# creating bool series False for NaN values\n",
        "bool_series = pd.notnull(corpus_raw[\"abstract\"])\n",
        "# displayed data only with abstract = NaN\n",
        "corpus_raw = corpus_raw[bool_series]#To select only articles with an abstract(resumé)\n",
        "print(corpus_raw.shape)"
      ],
      "metadata": {
        "colab": {
          "base_uri": "https://localhost:8080/"
        },
        "id": "a0lzAKCPUzBU",
        "outputId": "18e50f78-9939-415d-8f9e-1c650012f763"
      },
      "execution_count": 132,
      "outputs": [
        {
          "output_type": "stream",
          "name": "stdout",
          "text": [
            "(39476, 8)\n"
          ]
        }
      ]
    },
    {
      "cell_type": "code",
      "source": [
        "#subsampling by year\n",
        "corpus_raw = corpus_raw[(corpus_raw.year == 2014) | (corpus_raw.year == 2013) | (corpus_raw.year == 2012)]"
      ],
      "metadata": {
        "id": "SM7SOmZAXpdH"
      },
      "execution_count": 134,
      "outputs": []
    },
    {
      "cell_type": "code",
      "source": [
        "print(corpus_raw.shape)\n",
        "corpus_raw.head()"
      ],
      "metadata": {
        "colab": {
          "base_uri": "https://localhost:8080/",
          "height": 528
        },
        "id": "-X8m9cnEEGzh",
        "outputId": "52affa25-810d-4b51-c504-b639da2af9b0"
      },
      "execution_count": 135,
      "outputs": [
        {
          "output_type": "stream",
          "name": "stdout",
          "text": [
            "(15271, 8)\n"
          ]
        },
        {
          "output_type": "execute_result",
          "data": {
            "text/html": [
              "\n",
              "  <div id=\"df-339c0380-92c9-4624-8fce-64c139a07f32\">\n",
              "    <div class=\"colab-df-container\">\n",
              "      <div>\n",
              "<style scoped>\n",
              "    .dataframe tbody tr th:only-of-type {\n",
              "        vertical-align: middle;\n",
              "    }\n",
              "\n",
              "    .dataframe tbody tr th {\n",
              "        vertical-align: top;\n",
              "    }\n",
              "\n",
              "    .dataframe thead th {\n",
              "        text-align: right;\n",
              "    }\n",
              "</style>\n",
              "<table border=\"1\" class=\"dataframe\">\n",
              "  <thead>\n",
              "    <tr style=\"text-align: right;\">\n",
              "      <th></th>\n",
              "      <th>abstract</th>\n",
              "      <th>authors</th>\n",
              "      <th>n_citation</th>\n",
              "      <th>references</th>\n",
              "      <th>title</th>\n",
              "      <th>venue</th>\n",
              "      <th>year</th>\n",
              "      <th>id</th>\n",
              "    </tr>\n",
              "  </thead>\n",
              "  <tbody>\n",
              "    <tr>\n",
              "      <th>0</th>\n",
              "      <td>The purpose of this study is to develop a lear...</td>\n",
              "      <td>[Makoto Satoh, Ryo Muramatsu, Mizue Kayama, Ka...</td>\n",
              "      <td>0</td>\n",
              "      <td>[51c7e02e-f5ed-431a-8cf5-f761f266d4be, 69b625b...</td>\n",
              "      <td>Preliminary Design of a Network Protocol Learn...</td>\n",
              "      <td>international conference on human-computer int...</td>\n",
              "      <td>2013</td>\n",
              "      <td>00127ee2-cb05-48ce-bc49-9de556b93346</td>\n",
              "    </tr>\n",
              "    <tr>\n",
              "      <th>10</th>\n",
              "      <td>Recent achievements in Natural Language Proces...</td>\n",
              "      <td>[Ankita Brahmachari, Priya Singh, Avdhesh Garg...</td>\n",
              "      <td>0</td>\n",
              "      <td>[84d47128-58d0-4187-aa44-389fde7d5c83, e0dce69...</td>\n",
              "      <td>Identifying Psychological Theme Words from Emo...</td>\n",
              "      <td></td>\n",
              "      <td>2013</td>\n",
              "      <td>00a119c4-d367-4607-b3c8-b237f2971bff</td>\n",
              "    </tr>\n",
              "    <tr>\n",
              "      <th>23</th>\n",
              "      <td>In recent years, most of mobile phones have a ...</td>\n",
              "      <td>[Hiroshi Furukawa, Yutaka Nakamura]</td>\n",
              "      <td>7</td>\n",
              "      <td>[b2f0e0d3-0071-4076-921e-f93f30160c1c, f030524...</td>\n",
              "      <td>A pedestrian navigation method for user's safe...</td>\n",
              "      <td>international conference on human computer int...</td>\n",
              "      <td>2013</td>\n",
              "      <td>010d9907-45ef-459a-a293-8e1f41cef2b7</td>\n",
              "    </tr>\n",
              "    <tr>\n",
              "      <th>29</th>\n",
              "      <td>Spatial encryption is a generic public-key cry...</td>\n",
              "      <td>[Michel Abdalla, Jill-Jênn Vie]</td>\n",
              "      <td>50</td>\n",
              "      <td>[3140c9ba-8d98-42a7-b6b8-c58fdaa8fe75, 4708b4d...</td>\n",
              "      <td>Leakage-Resilient spatial encryption</td>\n",
              "      <td></td>\n",
              "      <td>2012</td>\n",
              "      <td>016a9a21-e882-4cda-a2b1-b2b46f10601e</td>\n",
              "    </tr>\n",
              "    <tr>\n",
              "      <th>34</th>\n",
              "      <td>Business strategy should be well understood in...</td>\n",
              "      <td>[Constantinos Giannoulis, Jelena Zdravkovic, M...</td>\n",
              "      <td>12</td>\n",
              "      <td>[0ce446cf-4f4f-49d5-b08c-e7dcacebf53b, 2819d0c...</td>\n",
              "      <td>Model-Driven Strategic Awareness: From a Unifi...</td>\n",
              "      <td></td>\n",
              "      <td>2012</td>\n",
              "      <td>01b6f2ca-3903-4196-a932-47a4be4c00bf</td>\n",
              "    </tr>\n",
              "  </tbody>\n",
              "</table>\n",
              "</div>\n",
              "      <button class=\"colab-df-convert\" onclick=\"convertToInteractive('df-339c0380-92c9-4624-8fce-64c139a07f32')\"\n",
              "              title=\"Convert this dataframe to an interactive table.\"\n",
              "              style=\"display:none;\">\n",
              "        \n",
              "  <svg xmlns=\"http://www.w3.org/2000/svg\" height=\"24px\"viewBox=\"0 0 24 24\"\n",
              "       width=\"24px\">\n",
              "    <path d=\"M0 0h24v24H0V0z\" fill=\"none\"/>\n",
              "    <path d=\"M18.56 5.44l.94 2.06.94-2.06 2.06-.94-2.06-.94-.94-2.06-.94 2.06-2.06.94zm-11 1L8.5 8.5l.94-2.06 2.06-.94-2.06-.94L8.5 2.5l-.94 2.06-2.06.94zm10 10l.94 2.06.94-2.06 2.06-.94-2.06-.94-.94-2.06-.94 2.06-2.06.94z\"/><path d=\"M17.41 7.96l-1.37-1.37c-.4-.4-.92-.59-1.43-.59-.52 0-1.04.2-1.43.59L10.3 9.45l-7.72 7.72c-.78.78-.78 2.05 0 2.83L4 21.41c.39.39.9.59 1.41.59.51 0 1.02-.2 1.41-.59l7.78-7.78 2.81-2.81c.8-.78.8-2.07 0-2.86zM5.41 20L4 18.59l7.72-7.72 1.47 1.35L5.41 20z\"/>\n",
              "  </svg>\n",
              "      </button>\n",
              "      \n",
              "  <style>\n",
              "    .colab-df-container {\n",
              "      display:flex;\n",
              "      flex-wrap:wrap;\n",
              "      gap: 12px;\n",
              "    }\n",
              "\n",
              "    .colab-df-convert {\n",
              "      background-color: #E8F0FE;\n",
              "      border: none;\n",
              "      border-radius: 50%;\n",
              "      cursor: pointer;\n",
              "      display: none;\n",
              "      fill: #1967D2;\n",
              "      height: 32px;\n",
              "      padding: 0 0 0 0;\n",
              "      width: 32px;\n",
              "    }\n",
              "\n",
              "    .colab-df-convert:hover {\n",
              "      background-color: #E2EBFA;\n",
              "      box-shadow: 0px 1px 2px rgba(60, 64, 67, 0.3), 0px 1px 3px 1px rgba(60, 64, 67, 0.15);\n",
              "      fill: #174EA6;\n",
              "    }\n",
              "\n",
              "    [theme=dark] .colab-df-convert {\n",
              "      background-color: #3B4455;\n",
              "      fill: #D2E3FC;\n",
              "    }\n",
              "\n",
              "    [theme=dark] .colab-df-convert:hover {\n",
              "      background-color: #434B5C;\n",
              "      box-shadow: 0px 1px 3px 1px rgba(0, 0, 0, 0.15);\n",
              "      filter: drop-shadow(0px 1px 2px rgba(0, 0, 0, 0.3));\n",
              "      fill: #FFFFFF;\n",
              "    }\n",
              "  </style>\n",
              "\n",
              "      <script>\n",
              "        const buttonEl =\n",
              "          document.querySelector('#df-339c0380-92c9-4624-8fce-64c139a07f32 button.colab-df-convert');\n",
              "        buttonEl.style.display =\n",
              "          google.colab.kernel.accessAllowed ? 'block' : 'none';\n",
              "\n",
              "        async function convertToInteractive(key) {\n",
              "          const element = document.querySelector('#df-339c0380-92c9-4624-8fce-64c139a07f32');\n",
              "          const dataTable =\n",
              "            await google.colab.kernel.invokeFunction('convertToInteractive',\n",
              "                                                     [key], {});\n",
              "          if (!dataTable) return;\n",
              "\n",
              "          const docLinkHtml = 'Like what you see? Visit the ' +\n",
              "            '<a target=\"_blank\" href=https://colab.research.google.com/notebooks/data_table.ipynb>data table notebook</a>'\n",
              "            + ' to learn more about interactive tables.';\n",
              "          element.innerHTML = '';\n",
              "          dataTable['output_type'] = 'display_data';\n",
              "          await google.colab.output.renderOutput(dataTable, element);\n",
              "          const docLink = document.createElement('div');\n",
              "          docLink.innerHTML = docLinkHtml;\n",
              "          element.appendChild(docLink);\n",
              "        }\n",
              "      </script>\n",
              "    </div>\n",
              "  </div>\n",
              "  "
            ],
            "text/plain": [
              "                                             abstract  ...                                    id\n",
              "0   The purpose of this study is to develop a lear...  ...  00127ee2-cb05-48ce-bc49-9de556b93346\n",
              "10  Recent achievements in Natural Language Proces...  ...  00a119c4-d367-4607-b3c8-b237f2971bff\n",
              "23  In recent years, most of mobile phones have a ...  ...  010d9907-45ef-459a-a293-8e1f41cef2b7\n",
              "29  Spatial encryption is a generic public-key cry...  ...  016a9a21-e882-4cda-a2b1-b2b46f10601e\n",
              "34  Business strategy should be well understood in...  ...  01b6f2ca-3903-4196-a932-47a4be4c00bf\n",
              "\n",
              "[5 rows x 8 columns]"
            ]
          },
          "metadata": {},
          "execution_count": 135
        }
      ]
    },
    {
      "cell_type": "code",
      "source": [
        "#select only 3 columns \n",
        "cols = [\"abstract\", \"title\", \"id\"]\n",
        "corpus_raw = corpus_raw[cols]"
      ],
      "metadata": {
        "colab": {
          "base_uri": "https://localhost:8080/"
        },
        "id": "ONbWnsLKTo-V",
        "outputId": "b331864f-02fa-48cf-9200-a475727fff41"
      },
      "execution_count": 137,
      "outputs": [
        {
          "output_type": "stream",
          "name": "stdout",
          "text": [
            "(15271, 3)\n"
          ]
        }
      ]
    },
    {
      "cell_type": "code",
      "source": [
        "#afficher le corpus final constitué de 15271 lignes (articles) et 3 colonnes \n",
        "print(corpus_raw.shape)\n",
        "corpus_raw.head()"
      ],
      "metadata": {
        "colab": {
          "base_uri": "https://localhost:8080/",
          "height": 224
        },
        "id": "VPqUk7mSFCam",
        "outputId": "0e44e4c8-57cf-4640-9187-5aba2bcdedb4"
      },
      "execution_count": 142,
      "outputs": [
        {
          "output_type": "stream",
          "name": "stdout",
          "text": [
            "(15271, 3)\n"
          ]
        },
        {
          "output_type": "execute_result",
          "data": {
            "text/html": [
              "\n",
              "  <div id=\"df-bcd3f2d8-0a38-468e-bcb3-ec7820914a19\">\n",
              "    <div class=\"colab-df-container\">\n",
              "      <div>\n",
              "<style scoped>\n",
              "    .dataframe tbody tr th:only-of-type {\n",
              "        vertical-align: middle;\n",
              "    }\n",
              "\n",
              "    .dataframe tbody tr th {\n",
              "        vertical-align: top;\n",
              "    }\n",
              "\n",
              "    .dataframe thead th {\n",
              "        text-align: right;\n",
              "    }\n",
              "</style>\n",
              "<table border=\"1\" class=\"dataframe\">\n",
              "  <thead>\n",
              "    <tr style=\"text-align: right;\">\n",
              "      <th></th>\n",
              "      <th>abstract</th>\n",
              "      <th>title</th>\n",
              "      <th>id</th>\n",
              "    </tr>\n",
              "  </thead>\n",
              "  <tbody>\n",
              "    <tr>\n",
              "      <th>0</th>\n",
              "      <td>The purpose of this study is to develop a lear...</td>\n",
              "      <td>Preliminary Design of a Network Protocol Learn...</td>\n",
              "      <td>00127ee2-cb05-48ce-bc49-9de556b93346</td>\n",
              "    </tr>\n",
              "    <tr>\n",
              "      <th>10</th>\n",
              "      <td>Recent achievements in Natural Language Proces...</td>\n",
              "      <td>Identifying Psychological Theme Words from Emo...</td>\n",
              "      <td>00a119c4-d367-4607-b3c8-b237f2971bff</td>\n",
              "    </tr>\n",
              "    <tr>\n",
              "      <th>23</th>\n",
              "      <td>In recent years, most of mobile phones have a ...</td>\n",
              "      <td>A pedestrian navigation method for user's safe...</td>\n",
              "      <td>010d9907-45ef-459a-a293-8e1f41cef2b7</td>\n",
              "    </tr>\n",
              "    <tr>\n",
              "      <th>29</th>\n",
              "      <td>Spatial encryption is a generic public-key cry...</td>\n",
              "      <td>Leakage-Resilient spatial encryption</td>\n",
              "      <td>016a9a21-e882-4cda-a2b1-b2b46f10601e</td>\n",
              "    </tr>\n",
              "    <tr>\n",
              "      <th>34</th>\n",
              "      <td>Business strategy should be well understood in...</td>\n",
              "      <td>Model-Driven Strategic Awareness: From a Unifi...</td>\n",
              "      <td>01b6f2ca-3903-4196-a932-47a4be4c00bf</td>\n",
              "    </tr>\n",
              "  </tbody>\n",
              "</table>\n",
              "</div>\n",
              "      <button class=\"colab-df-convert\" onclick=\"convertToInteractive('df-bcd3f2d8-0a38-468e-bcb3-ec7820914a19')\"\n",
              "              title=\"Convert this dataframe to an interactive table.\"\n",
              "              style=\"display:none;\">\n",
              "        \n",
              "  <svg xmlns=\"http://www.w3.org/2000/svg\" height=\"24px\"viewBox=\"0 0 24 24\"\n",
              "       width=\"24px\">\n",
              "    <path d=\"M0 0h24v24H0V0z\" fill=\"none\"/>\n",
              "    <path d=\"M18.56 5.44l.94 2.06.94-2.06 2.06-.94-2.06-.94-.94-2.06-.94 2.06-2.06.94zm-11 1L8.5 8.5l.94-2.06 2.06-.94-2.06-.94L8.5 2.5l-.94 2.06-2.06.94zm10 10l.94 2.06.94-2.06 2.06-.94-2.06-.94-.94-2.06-.94 2.06-2.06.94z\"/><path d=\"M17.41 7.96l-1.37-1.37c-.4-.4-.92-.59-1.43-.59-.52 0-1.04.2-1.43.59L10.3 9.45l-7.72 7.72c-.78.78-.78 2.05 0 2.83L4 21.41c.39.39.9.59 1.41.59.51 0 1.02-.2 1.41-.59l7.78-7.78 2.81-2.81c.8-.78.8-2.07 0-2.86zM5.41 20L4 18.59l7.72-7.72 1.47 1.35L5.41 20z\"/>\n",
              "  </svg>\n",
              "      </button>\n",
              "      \n",
              "  <style>\n",
              "    .colab-df-container {\n",
              "      display:flex;\n",
              "      flex-wrap:wrap;\n",
              "      gap: 12px;\n",
              "    }\n",
              "\n",
              "    .colab-df-convert {\n",
              "      background-color: #E8F0FE;\n",
              "      border: none;\n",
              "      border-radius: 50%;\n",
              "      cursor: pointer;\n",
              "      display: none;\n",
              "      fill: #1967D2;\n",
              "      height: 32px;\n",
              "      padding: 0 0 0 0;\n",
              "      width: 32px;\n",
              "    }\n",
              "\n",
              "    .colab-df-convert:hover {\n",
              "      background-color: #E2EBFA;\n",
              "      box-shadow: 0px 1px 2px rgba(60, 64, 67, 0.3), 0px 1px 3px 1px rgba(60, 64, 67, 0.15);\n",
              "      fill: #174EA6;\n",
              "    }\n",
              "\n",
              "    [theme=dark] .colab-df-convert {\n",
              "      background-color: #3B4455;\n",
              "      fill: #D2E3FC;\n",
              "    }\n",
              "\n",
              "    [theme=dark] .colab-df-convert:hover {\n",
              "      background-color: #434B5C;\n",
              "      box-shadow: 0px 1px 3px 1px rgba(0, 0, 0, 0.15);\n",
              "      filter: drop-shadow(0px 1px 2px rgba(0, 0, 0, 0.3));\n",
              "      fill: #FFFFFF;\n",
              "    }\n",
              "  </style>\n",
              "\n",
              "      <script>\n",
              "        const buttonEl =\n",
              "          document.querySelector('#df-bcd3f2d8-0a38-468e-bcb3-ec7820914a19 button.colab-df-convert');\n",
              "        buttonEl.style.display =\n",
              "          google.colab.kernel.accessAllowed ? 'block' : 'none';\n",
              "\n",
              "        async function convertToInteractive(key) {\n",
              "          const element = document.querySelector('#df-bcd3f2d8-0a38-468e-bcb3-ec7820914a19');\n",
              "          const dataTable =\n",
              "            await google.colab.kernel.invokeFunction('convertToInteractive',\n",
              "                                                     [key], {});\n",
              "          if (!dataTable) return;\n",
              "\n",
              "          const docLinkHtml = 'Like what you see? Visit the ' +\n",
              "            '<a target=\"_blank\" href=https://colab.research.google.com/notebooks/data_table.ipynb>data table notebook</a>'\n",
              "            + ' to learn more about interactive tables.';\n",
              "          element.innerHTML = '';\n",
              "          dataTable['output_type'] = 'display_data';\n",
              "          await google.colab.output.renderOutput(dataTable, element);\n",
              "          const docLink = document.createElement('div');\n",
              "          docLink.innerHTML = docLinkHtml;\n",
              "          element.appendChild(docLink);\n",
              "        }\n",
              "      </script>\n",
              "    </div>\n",
              "  </div>\n",
              "  "
            ],
            "text/plain": [
              "                                             abstract  ...                                    id\n",
              "0   The purpose of this study is to develop a lear...  ...  00127ee2-cb05-48ce-bc49-9de556b93346\n",
              "10  Recent achievements in Natural Language Proces...  ...  00a119c4-d367-4607-b3c8-b237f2971bff\n",
              "23  In recent years, most of mobile phones have a ...  ...  010d9907-45ef-459a-a293-8e1f41cef2b7\n",
              "29  Spatial encryption is a generic public-key cry...  ...  016a9a21-e882-4cda-a2b1-b2b46f10601e\n",
              "34  Business strategy should be well understood in...  ...  01b6f2ca-3903-4196-a932-47a4be4c00bf\n",
              "\n",
              "[5 rows x 3 columns]"
            ]
          },
          "metadata": {},
          "execution_count": 142
        }
      ]
    },
    {
      "cell_type": "code",
      "source": [
        "#to export our data frame into a csv file \n",
        "corpus_raw.to_csv(\"/content/drive/MyDrive/data-TD1\", index=False)"
      ],
      "metadata": {
        "id": "JtCRWPvkg0JF"
      },
      "execution_count": 143,
      "outputs": []
    },
    {
      "cell_type": "markdown",
      "source": [
        "### EXERCICE 2: CONSTRUCTION INDEX SUR LES MOTS"
      ],
      "metadata": {
        "id": "eyUOHBZ8iYLQ"
      }
    },
    {
      "cell_type": "code",
      "source": [
        "corpus = pd.read_csv(\"/content/drive/MyDrive/data-TD1\")"
      ],
      "metadata": {
        "id": "k5vygCV8heU3"
      },
      "execution_count": 3,
      "outputs": []
    },
    {
      "cell_type": "code",
      "source": [
        "import nltk\n",
        "from nltk.corpus import stopwords\n",
        "nltk.download('stopwords')\n",
        "nltk.download('wordnet')\n",
        "nltk.download('punkt')"
      ],
      "metadata": {
        "colab": {
          "base_uri": "https://localhost:8080/"
        },
        "id": "QyWi4BrJHM6i",
        "outputId": "efc2e62b-062e-4686-8d6a-66540911deaf"
      },
      "execution_count": 4,
      "outputs": [
        {
          "output_type": "stream",
          "name": "stdout",
          "text": [
            "[nltk_data] Downloading package stopwords to /root/nltk_data...\n",
            "[nltk_data]   Package stopwords is already up-to-date!\n",
            "[nltk_data] Downloading package wordnet to /root/nltk_data...\n",
            "[nltk_data]   Package wordnet is already up-to-date!\n",
            "[nltk_data] Downloading package punkt to /root/nltk_data...\n",
            "[nltk_data]   Package punkt is already up-to-date!\n"
          ]
        },
        {
          "output_type": "execute_result",
          "data": {
            "text/plain": [
              "True"
            ]
          },
          "metadata": {},
          "execution_count": 4
        }
      ]
    },
    {
      "cell_type": "code",
      "source": [
        "from sklearn.feature_extraction.text import CountVectorizer\n",
        "from sklearn.feature_extraction.text import TfidfVectorizer"
      ],
      "metadata": {
        "id": "4UrpjQCGOQzE"
      },
      "execution_count": 5,
      "outputs": []
    },
    {
      "cell_type": "code",
      "source": [
        "from nltk.stem import WordNetLemmatizer \n",
        "#instantiate the Wordnet Lemmatizer\n",
        "lemmatizer = WordNetLemmatizer()"
      ],
      "metadata": {
        "id": "laYmb4kjCLBM"
      },
      "execution_count": 6,
      "outputs": []
    },
    {
      "cell_type": "code",
      "source": [
        "#to print the unpreprocessed abstract 1\n",
        "corpus.abstract[0]"
      ],
      "metadata": {
        "colab": {
          "base_uri": "https://localhost:8080/",
          "height": 70
        },
        "id": "G4tYfdrP7COs",
        "outputId": "e164017d-e15f-48a1-d391-ca6a9b36a164"
      },
      "execution_count": 7,
      "outputs": [
        {
          "output_type": "execute_result",
          "data": {
            "application/vnd.google.colaboratory.intrinsic+json": {
              "type": "string"
            },
            "text/plain": [
              "'The purpose of this study is to develop a learning tool for high school students studying the scientific aspects of information and communication net- works. More specifically, we focus on the basic principles of network proto- cols as the aim to develop our learning tool. Our tool gives students hands-on experience to help understand the basic principles of network protocols.'"
            ]
          },
          "metadata": {},
          "execution_count": 7
        }
      ]
    },
    {
      "cell_type": "code",
      "source": [
        "%%time\n",
        "#To create a loop to successively remove characters as punctuation, parentheses... and keep only upper & lower letters characters \n",
        "#convert all uppercase letters to lower case\n",
        "#tokenize the text\n",
        "#stemm the words\n",
        "#lemmatization    \n",
        "corpus_prep = []\n",
        "for i in range(0, corpus.abstract.shape[0]):\n",
        "  abstract = re.sub(\"[^a-zA-Z]\", \" \", corpus[\"abstract\"][i])#To keep anly all characters letters between lower a-z and upper A to Z\n",
        "  abstract = abstract.lower()#to convert all upper case letters into lower case letters\n",
        "  abstract = nltk.word_tokenize(abstract)#to split a sentence into a list of words to loop throught it\n",
        "  stemmer_en = SnowballStemmer(\"english\")#to apply stemming\n",
        "  abstract = [stemmer_en.stem(word) for word in abstract if not word in set(stopwords.words(\"english\"))]#to remove all english stopwords(mots utiles) \n",
        "  abstract = \" \".join([lemmatizer.lemmatize(word) for word in abstract])#To apply lemmatization\n",
        "  corpus_prep.append(abstract)"
      ],
      "metadata": {
        "colab": {
          "base_uri": "https://localhost:8080/"
        },
        "id": "EwXp5EiG5tgE",
        "outputId": "7ba03c7c-dac4-4357-bed6-01f1773fefb9"
      },
      "execution_count": 8,
      "outputs": [
        {
          "output_type": "stream",
          "name": "stdout",
          "text": [
            "CPU times: user 4min 57s, sys: 24.4 s, total: 5min 21s\n",
            "Wall time: 5min 21s\n"
          ]
        }
      ]
    },
    {
      "cell_type": "code",
      "source": [
        "#print preprocessed abstract 1(stemming & lemmatization)\n",
        "corpus_prep[0]"
      ],
      "metadata": {
        "colab": {
          "base_uri": "https://localhost:8080/",
          "height": 53
        },
        "id": "mnf2Qj8VGDvS",
        "outputId": "b9880488-2204-40f0-ba57-66f2f03a3a05"
      },
      "execution_count": 9,
      "outputs": [
        {
          "output_type": "execute_result",
          "data": {
            "application/vnd.google.colaboratory.intrinsic+json": {
              "type": "string"
            },
            "text/plain": [
              "'purpos studi develop learn tool high school student studi scientif aspect inform communic net work specif focus basic principl network proto col aim develop learn tool tool give student hand experi help understand basic principl network protocol'"
            ]
          },
          "metadata": {},
          "execution_count": 9
        }
      ]
    },
    {
      "cell_type": "code",
      "source": [
        "#to concatenate the preprocessed abstract with titles and id\n",
        "Columns_to_keep = [\"title\", \"id\"]\n",
        "df = corpus[Columns_to_keep]\n",
        "corpus_abstract = DataFrame(corpus_prep, columns=[\"abstract\"])\n",
        "corpus = pd.concat([corpus_abstract, df], axis=1)"
      ],
      "metadata": {
        "id": "Q_Z35204EaTz"
      },
      "execution_count": 10,
      "outputs": []
    },
    {
      "cell_type": "code",
      "source": [
        "corpus.head()"
      ],
      "metadata": {
        "colab": {
          "base_uri": "https://localhost:8080/",
          "height": 206
        },
        "id": "5we0ecjLGiy2",
        "outputId": "2fc20624-357c-45be-c242-398f716a2154"
      },
      "execution_count": 11,
      "outputs": [
        {
          "output_type": "execute_result",
          "data": {
            "text/html": [
              "\n",
              "  <div id=\"df-345d7e48-5d95-406a-9a13-6ce54e0f225d\">\n",
              "    <div class=\"colab-df-container\">\n",
              "      <div>\n",
              "<style scoped>\n",
              "    .dataframe tbody tr th:only-of-type {\n",
              "        vertical-align: middle;\n",
              "    }\n",
              "\n",
              "    .dataframe tbody tr th {\n",
              "        vertical-align: top;\n",
              "    }\n",
              "\n",
              "    .dataframe thead th {\n",
              "        text-align: right;\n",
              "    }\n",
              "</style>\n",
              "<table border=\"1\" class=\"dataframe\">\n",
              "  <thead>\n",
              "    <tr style=\"text-align: right;\">\n",
              "      <th></th>\n",
              "      <th>abstract</th>\n",
              "      <th>title</th>\n",
              "      <th>id</th>\n",
              "    </tr>\n",
              "  </thead>\n",
              "  <tbody>\n",
              "    <tr>\n",
              "      <th>0</th>\n",
              "      <td>purpos studi develop learn tool high school st...</td>\n",
              "      <td>Preliminary Design of a Network Protocol Learn...</td>\n",
              "      <td>00127ee2-cb05-48ce-bc49-9de556b93346</td>\n",
              "    </tr>\n",
              "    <tr>\n",
              "      <th>1</th>\n",
              "      <td>recent achiev natur languag process nlp psycho...</td>\n",
              "      <td>Identifying Psychological Theme Words from Emo...</td>\n",
              "      <td>00a119c4-d367-4607-b3c8-b237f2971bff</td>\n",
              "    </tr>\n",
              "    <tr>\n",
              "      <th>2</th>\n",
              "      <td>recent year mobil phone function pedestrian na...</td>\n",
              "      <td>A pedestrian navigation method for user's safe...</td>\n",
              "      <td>010d9907-45ef-459a-a293-8e1f41cef2b7</td>\n",
              "    </tr>\n",
              "    <tr>\n",
              "      <th>3</th>\n",
              "      <td>spatial encrypt generic public key cryptosyste...</td>\n",
              "      <td>Leakage-Resilient spatial encryption</td>\n",
              "      <td>016a9a21-e882-4cda-a2b1-b2b46f10601e</td>\n",
              "    </tr>\n",
              "    <tr>\n",
              "      <th>4</th>\n",
              "      <td>busi strategi well understood order support en...</td>\n",
              "      <td>Model-Driven Strategic Awareness: From a Unifi...</td>\n",
              "      <td>01b6f2ca-3903-4196-a932-47a4be4c00bf</td>\n",
              "    </tr>\n",
              "  </tbody>\n",
              "</table>\n",
              "</div>\n",
              "      <button class=\"colab-df-convert\" onclick=\"convertToInteractive('df-345d7e48-5d95-406a-9a13-6ce54e0f225d')\"\n",
              "              title=\"Convert this dataframe to an interactive table.\"\n",
              "              style=\"display:none;\">\n",
              "        \n",
              "  <svg xmlns=\"http://www.w3.org/2000/svg\" height=\"24px\"viewBox=\"0 0 24 24\"\n",
              "       width=\"24px\">\n",
              "    <path d=\"M0 0h24v24H0V0z\" fill=\"none\"/>\n",
              "    <path d=\"M18.56 5.44l.94 2.06.94-2.06 2.06-.94-2.06-.94-.94-2.06-.94 2.06-2.06.94zm-11 1L8.5 8.5l.94-2.06 2.06-.94-2.06-.94L8.5 2.5l-.94 2.06-2.06.94zm10 10l.94 2.06.94-2.06 2.06-.94-2.06-.94-.94-2.06-.94 2.06-2.06.94z\"/><path d=\"M17.41 7.96l-1.37-1.37c-.4-.4-.92-.59-1.43-.59-.52 0-1.04.2-1.43.59L10.3 9.45l-7.72 7.72c-.78.78-.78 2.05 0 2.83L4 21.41c.39.39.9.59 1.41.59.51 0 1.02-.2 1.41-.59l7.78-7.78 2.81-2.81c.8-.78.8-2.07 0-2.86zM5.41 20L4 18.59l7.72-7.72 1.47 1.35L5.41 20z\"/>\n",
              "  </svg>\n",
              "      </button>\n",
              "      \n",
              "  <style>\n",
              "    .colab-df-container {\n",
              "      display:flex;\n",
              "      flex-wrap:wrap;\n",
              "      gap: 12px;\n",
              "    }\n",
              "\n",
              "    .colab-df-convert {\n",
              "      background-color: #E8F0FE;\n",
              "      border: none;\n",
              "      border-radius: 50%;\n",
              "      cursor: pointer;\n",
              "      display: none;\n",
              "      fill: #1967D2;\n",
              "      height: 32px;\n",
              "      padding: 0 0 0 0;\n",
              "      width: 32px;\n",
              "    }\n",
              "\n",
              "    .colab-df-convert:hover {\n",
              "      background-color: #E2EBFA;\n",
              "      box-shadow: 0px 1px 2px rgba(60, 64, 67, 0.3), 0px 1px 3px 1px rgba(60, 64, 67, 0.15);\n",
              "      fill: #174EA6;\n",
              "    }\n",
              "\n",
              "    [theme=dark] .colab-df-convert {\n",
              "      background-color: #3B4455;\n",
              "      fill: #D2E3FC;\n",
              "    }\n",
              "\n",
              "    [theme=dark] .colab-df-convert:hover {\n",
              "      background-color: #434B5C;\n",
              "      box-shadow: 0px 1px 3px 1px rgba(0, 0, 0, 0.15);\n",
              "      filter: drop-shadow(0px 1px 2px rgba(0, 0, 0, 0.3));\n",
              "      fill: #FFFFFF;\n",
              "    }\n",
              "  </style>\n",
              "\n",
              "      <script>\n",
              "        const buttonEl =\n",
              "          document.querySelector('#df-345d7e48-5d95-406a-9a13-6ce54e0f225d button.colab-df-convert');\n",
              "        buttonEl.style.display =\n",
              "          google.colab.kernel.accessAllowed ? 'block' : 'none';\n",
              "\n",
              "        async function convertToInteractive(key) {\n",
              "          const element = document.querySelector('#df-345d7e48-5d95-406a-9a13-6ce54e0f225d');\n",
              "          const dataTable =\n",
              "            await google.colab.kernel.invokeFunction('convertToInteractive',\n",
              "                                                     [key], {});\n",
              "          if (!dataTable) return;\n",
              "\n",
              "          const docLinkHtml = 'Like what you see? Visit the ' +\n",
              "            '<a target=\"_blank\" href=https://colab.research.google.com/notebooks/data_table.ipynb>data table notebook</a>'\n",
              "            + ' to learn more about interactive tables.';\n",
              "          element.innerHTML = '';\n",
              "          dataTable['output_type'] = 'display_data';\n",
              "          await google.colab.output.renderOutput(dataTable, element);\n",
              "          const docLink = document.createElement('div');\n",
              "          docLink.innerHTML = docLinkHtml;\n",
              "          element.appendChild(docLink);\n",
              "        }\n",
              "      </script>\n",
              "    </div>\n",
              "  </div>\n",
              "  "
            ],
            "text/plain": [
              "                                            abstract  ...                                    id\n",
              "0  purpos studi develop learn tool high school st...  ...  00127ee2-cb05-48ce-bc49-9de556b93346\n",
              "1  recent achiev natur languag process nlp psycho...  ...  00a119c4-d367-4607-b3c8-b237f2971bff\n",
              "2  recent year mobil phone function pedestrian na...  ...  010d9907-45ef-459a-a293-8e1f41cef2b7\n",
              "3  spatial encrypt generic public key cryptosyste...  ...  016a9a21-e882-4cda-a2b1-b2b46f10601e\n",
              "4  busi strategi well understood order support en...  ...  01b6f2ca-3903-4196-a932-47a4be4c00bf\n",
              "\n",
              "[5 rows x 3 columns]"
            ]
          },
          "metadata": {},
          "execution_count": 11
        }
      ]
    },
    {
      "cell_type": "markdown",
      "source": [
        "### PONDERATION TF & TF-IDF"
      ],
      "metadata": {
        "id": "9cE8j2r6lTgw"
      }
    },
    {
      "cell_type": "markdown",
      "source": [
        "#### TF"
      ],
      "metadata": {
        "id": "Niwp45wfSC8l"
      }
    },
    {
      "cell_type": "code",
      "source": [
        "#instantiate and fit the vectorizer tf to obtain a\n",
        "#parse matrix of entire corpus with shape documents*termes\n",
        "tf_Vectorizer = CountVectorizer().fit(corpus[\"abstract\"])\n",
        "tf_bagof_words = tf_Vectorizer.transform(corpus[\"abstract\"])\n",
        "print(\"The shape of sparse matrix using TF vectorizer is: \", tf_bagof_words.shape)"
      ],
      "metadata": {
        "colab": {
          "base_uri": "https://localhost:8080/"
        },
        "id": "nt7d44S_Rfm6",
        "outputId": "215756db-6a15-4276-b2dd-2be87edcf827"
      },
      "execution_count": 12,
      "outputs": [
        {
          "output_type": "stream",
          "name": "stdout",
          "text": [
            "The shape of sparse matrix using TF vectorizer is:  (15271, 30182)\n"
          ]
        }
      ]
    },
    {
      "cell_type": "markdown",
      "source": [
        "#### TF-IDF"
      ],
      "metadata": {
        "id": "MUS3rh2jS-tM"
      }
    },
    {
      "cell_type": "code",
      "source": [
        "#instantiate and fit the vectorizer tfidf\n",
        "tfidf_Vectorizer = TfidfVectorizer().fit(corpus[\"abstract\"])\n",
        "tfidf_bagof_words = tfidf_Vectorizer.transform(corpus[\"abstract\"])\n",
        "print(\"The shape of sparse matrix using TF-idf vectorizer is: \", tfidf_bagof_words.shape)"
      ],
      "metadata": {
        "colab": {
          "base_uri": "https://localhost:8080/"
        },
        "id": "8nmlUDsFPy4z",
        "outputId": "259161ec-7295-4279-9124-a04448bbc627"
      },
      "execution_count": 13,
      "outputs": [
        {
          "output_type": "stream",
          "name": "stdout",
          "text": [
            "The shape of sparse matrix using TF-idf vectorizer is:  (15271, 30182)\n"
          ]
        }
      ]
    },
    {
      "cell_type": "code",
      "source": [
        "#check the total number of vocabulary words in document 24 (abstract 24)\n",
        "#to print abstract number 24\n",
        "abstract_24 = corpus[\"abstract\"][23]\n",
        "print(abstract_24)\n",
        "bow_24 = tfidf_Vectorizer.transform([abstract_24])"
      ],
      "metadata": {
        "colab": {
          "base_uri": "https://localhost:8080/"
        },
        "id": "0m8xeRx1Y3gV",
        "outputId": "749e65dd-b811-45d6-8180-2e0fce58588b"
      },
      "execution_count": 14,
      "outputs": [
        {
          "output_type": "stream",
          "name": "stdout",
          "text": [
            "introduc data music novel approach aid analysi understand sleep measur data data music process automat compos novel music given data use guid process present sleep music methodolog read signal state art mattress sensor use high non trivial data analysi method measur sleep signal compos music measur result sleep music produc music reflect user sleep night complement visual sleep measur ultim goal help user improv sleep well practic use later evalu methodolog built public web servic http sleepmusic net user sleep sensor\n"
          ]
        }
      ]
    },
    {
      "cell_type": "code",
      "source": [
        "#sparse matrix of shape 1x30182 (1 times the entire vocabulary size)\n",
        "print(bow_24.shape)"
      ],
      "metadata": {
        "colab": {
          "base_uri": "https://localhost:8080/"
        },
        "id": "PiUyAW3cZV1v",
        "outputId": "234fc8bc-c839-4e7b-d2ef-3c5f314e3842"
      },
      "execution_count": 15,
      "outputs": [
        {
          "output_type": "stream",
          "name": "stdout",
          "text": [
            "(1, 30182)\n"
          ]
        }
      ]
    },
    {
      "cell_type": "code",
      "source": [
        "#weight value of each words in document 24 vs the entire document\n",
        "print(bow_24)"
      ],
      "metadata": {
        "colab": {
          "base_uri": "https://localhost:8080/"
        },
        "id": "emw4IFfsbndR",
        "outputId": "53fda151-7aac-44cb-e96c-eb7cc247bd4e"
      },
      "execution_count": 16,
      "outputs": [
        {
          "output_type": "stream",
          "name": "stdout",
          "text": [
            "  (0, 29417)\t0.034419590837390074\n",
            "  (0, 29327)\t0.04361423566397409\n",
            "  (0, 28965)\t0.04606834643503866\n",
            "  (0, 28423)\t0.09882675551495682\n",
            "  (0, 28416)\t0.05458376700398799\n",
            "  (0, 27955)\t0.04459313428990705\n",
            "  (0, 27757)\t0.07244795644535763\n",
            "  (0, 27382)\t0.06876891971842587\n",
            "  (0, 25030)\t0.03795523384027896\n",
            "  (0, 24211)\t0.11676291409151136\n",
            "  (0, 24210)\t0.7276340120126715\n",
            "  (0, 23966)\t0.10492163188898167\n",
            "  (0, 23647)\t0.041861697382050665\n",
            "  (0, 23565)\t0.10119501681541451\n",
            "  (0, 22326)\t0.022806347088565982\n",
            "  (0, 21961)\t0.05647227713139103\n",
            "  (0, 21733)\t0.06261186985932908\n",
            "  (0, 21155)\t0.0503274728705636\n",
            "  (0, 20833)\t0.04861106607310533\n",
            "  (0, 20816)\t0.05913794818314905\n",
            "  (0, 20660)\t0.024770182809225057\n",
            "  (0, 20504)\t0.04211409275129574\n",
            "  (0, 18037)\t0.07660830286350484\n",
            "  (0, 17879)\t0.040912297267387716\n",
            "  (0, 17745)\t0.09309580571079003\n",
            "  (0, 17563)\t0.06345988955615942\n",
            "  (0, 17184)\t0.490122218686577\n",
            "  (0, 16096)\t0.09984757909835432\n",
            "  (0, 16088)\t0.026729014764382823\n",
            "  (0, 15809)\t0.15786615594503903\n",
            "  (0, 15654)\t0.10862118752757546\n",
            "  (0, 14356)\t0.06589399668576174\n",
            "  (0, 13133)\t0.03650825874141215\n",
            "  (0, 12468)\t0.03284450346390803\n",
            "  (0, 11895)\t0.07141467272787592\n",
            "  (0, 11566)\t0.03528843436660987\n",
            "  (0, 11392)\t0.04492547064986514\n",
            "  (0, 11008)\t0.05851034143291222\n",
            "  (0, 10649)\t0.04628466983344746\n",
            "  (0, 10535)\t0.03959759784704209\n",
            "  (0, 8656)\t0.03261044709472866\n",
            "  (0, 5884)\t0.13512316587341547\n",
            "  (0, 4841)\t0.11864146734064189\n",
            "  (0, 4806)\t0.06791255470789596\n",
            "  (0, 3279)\t0.055572141071585424\n",
            "  (0, 1887)\t0.04250843109614196\n",
            "  (0, 1492)\t0.04581390987566974\n",
            "  (0, 1308)\t0.02616182712509001\n",
            "  (0, 913)\t0.06697512887975679\n",
            "  (0, 560)\t0.06209736300354154\n"
          ]
        }
      ]
    },
    {
      "cell_type": "code",
      "source": [
        "#to check the word with an index number 17184 with a weight value of 0.49 in abstract 24 \n",
        "tfidf_Vectorizer.get_feature_names_out()[17184]"
      ],
      "metadata": {
        "colab": {
          "base_uri": "https://localhost:8080/",
          "height": 35
        },
        "id": "n8r4Q8hgZhcG",
        "outputId": "8452dee2-a5b3-4f42-9710-0523b64c1492"
      },
      "execution_count": 17,
      "outputs": [
        {
          "output_type": "execute_result",
          "data": {
            "application/vnd.google.colaboratory.intrinsic+json": {
              "type": "string"
            },
            "text/plain": [
              "'music'"
            ]
          },
          "metadata": {},
          "execution_count": 17
        }
      ]
    },
    {
      "cell_type": "markdown",
      "source": [
        "#### Mots les plus frequents"
      ],
      "metadata": {
        "id": "uBC4TsQUSKNi"
      }
    },
    {
      "cell_type": "code",
      "source": [
        "def top_feats(row, features, top_n=25):\n",
        "    ''' Get top n tfidf values in row and return them with their corresponding feature names.'''\n",
        "    topn_ids = np.argsort(row)[::-1][:top_n]\n",
        "    top_feats = [(features[i], row[i]) for i in topn_ids if row[i]>0]\n",
        "    df = pd.DataFrame(top_feats)\n",
        "    if len(top_feats) > 0:\n",
        "        df.columns = ['features', 'score']\n",
        "    return df\n",
        "\n",
        "def top_feats_in_doc(Xtr, features, row_id, top_n=25):\n",
        "    ''' Top features in specific document (matrix row) '''\n",
        "    row = np.squeeze(Xtr[row_id].toarray())\n",
        "    return top_feats(row, features, top_n)"
      ],
      "metadata": {
        "id": "Rwz1aWGaSJPy"
      },
      "execution_count": 18,
      "outputs": []
    },
    {
      "cell_type": "code",
      "source": [
        "#\n",
        "features_tfidf = tfidf_Vectorizer.get_feature_names()\n",
        "features_tf = tf_Vectorizer.get_feature_names()"
      ],
      "metadata": {
        "colab": {
          "base_uri": "https://localhost:8080/"
        },
        "id": "OfP-eWi5SJh1",
        "outputId": "928f3709-e142-4bd5-d989-9384e8719f9f"
      },
      "execution_count": 19,
      "outputs": [
        {
          "output_type": "stream",
          "name": "stderr",
          "text": [
            "/usr/local/lib/python3.7/dist-packages/sklearn/utils/deprecation.py:87: FutureWarning: Function get_feature_names is deprecated; get_feature_names is deprecated in 1.0 and will be removed in 1.2. Please use get_feature_names_out instead.\n",
            "  warnings.warn(msg, category=FutureWarning)\n"
          ]
        }
      ]
    },
    {
      "cell_type": "code",
      "source": [
        "import seaborn as sns\n",
        "import matplotlib.pyplot as plt\n",
        "\n",
        "sns.set_style('whitegrid')\n",
        "sns.set(rc={'figure.figsize':(15,8)})"
      ],
      "metadata": {
        "id": "hN_EBy3MV0Wz"
      },
      "execution_count": 20,
      "outputs": []
    },
    {
      "cell_type": "code",
      "source": [
        "#most frequent word in abstract 1 (index 0) vectorizer tf\n",
        "top_feats_in_doc(tf_bagof_words, features_tf, 0, top_n=10)"
      ],
      "metadata": {
        "colab": {
          "base_uri": "https://localhost:8080/",
          "height": 363
        },
        "id": "JkPlVZQrYN7Q",
        "outputId": "09127f25-ed70-48df-a49f-afa64fc68e0a"
      },
      "execution_count": 21,
      "outputs": [
        {
          "output_type": "execute_result",
          "data": {
            "text/html": [
              "\n",
              "  <div id=\"df-1948017e-d114-479c-819e-b6618f549857\">\n",
              "    <div class=\"colab-df-container\">\n",
              "      <div>\n",
              "<style scoped>\n",
              "    .dataframe tbody tr th:only-of-type {\n",
              "        vertical-align: middle;\n",
              "    }\n",
              "\n",
              "    .dataframe tbody tr th {\n",
              "        vertical-align: top;\n",
              "    }\n",
              "\n",
              "    .dataframe thead th {\n",
              "        text-align: right;\n",
              "    }\n",
              "</style>\n",
              "<table border=\"1\" class=\"dataframe\">\n",
              "  <thead>\n",
              "    <tr style=\"text-align: right;\">\n",
              "      <th></th>\n",
              "      <th>features</th>\n",
              "      <th>score</th>\n",
              "    </tr>\n",
              "  </thead>\n",
              "  <tbody>\n",
              "    <tr>\n",
              "      <th>0</th>\n",
              "      <td>tool</td>\n",
              "      <td>3</td>\n",
              "    </tr>\n",
              "    <tr>\n",
              "      <th>1</th>\n",
              "      <td>learn</td>\n",
              "      <td>2</td>\n",
              "    </tr>\n",
              "    <tr>\n",
              "      <th>2</th>\n",
              "      <td>develop</td>\n",
              "      <td>2</td>\n",
              "    </tr>\n",
              "    <tr>\n",
              "      <th>3</th>\n",
              "      <td>studi</td>\n",
              "      <td>2</td>\n",
              "    </tr>\n",
              "    <tr>\n",
              "      <th>4</th>\n",
              "      <td>principl</td>\n",
              "      <td>2</td>\n",
              "    </tr>\n",
              "    <tr>\n",
              "      <th>5</th>\n",
              "      <td>network</td>\n",
              "      <td>2</td>\n",
              "    </tr>\n",
              "    <tr>\n",
              "      <th>6</th>\n",
              "      <td>student</td>\n",
              "      <td>2</td>\n",
              "    </tr>\n",
              "    <tr>\n",
              "      <th>7</th>\n",
              "      <td>basic</td>\n",
              "      <td>2</td>\n",
              "    </tr>\n",
              "    <tr>\n",
              "      <th>8</th>\n",
              "      <td>help</td>\n",
              "      <td>1</td>\n",
              "    </tr>\n",
              "    <tr>\n",
              "      <th>9</th>\n",
              "      <td>experi</td>\n",
              "      <td>1</td>\n",
              "    </tr>\n",
              "  </tbody>\n",
              "</table>\n",
              "</div>\n",
              "      <button class=\"colab-df-convert\" onclick=\"convertToInteractive('df-1948017e-d114-479c-819e-b6618f549857')\"\n",
              "              title=\"Convert this dataframe to an interactive table.\"\n",
              "              style=\"display:none;\">\n",
              "        \n",
              "  <svg xmlns=\"http://www.w3.org/2000/svg\" height=\"24px\"viewBox=\"0 0 24 24\"\n",
              "       width=\"24px\">\n",
              "    <path d=\"M0 0h24v24H0V0z\" fill=\"none\"/>\n",
              "    <path d=\"M18.56 5.44l.94 2.06.94-2.06 2.06-.94-2.06-.94-.94-2.06-.94 2.06-2.06.94zm-11 1L8.5 8.5l.94-2.06 2.06-.94-2.06-.94L8.5 2.5l-.94 2.06-2.06.94zm10 10l.94 2.06.94-2.06 2.06-.94-2.06-.94-.94-2.06-.94 2.06-2.06.94z\"/><path d=\"M17.41 7.96l-1.37-1.37c-.4-.4-.92-.59-1.43-.59-.52 0-1.04.2-1.43.59L10.3 9.45l-7.72 7.72c-.78.78-.78 2.05 0 2.83L4 21.41c.39.39.9.59 1.41.59.51 0 1.02-.2 1.41-.59l7.78-7.78 2.81-2.81c.8-.78.8-2.07 0-2.86zM5.41 20L4 18.59l7.72-7.72 1.47 1.35L5.41 20z\"/>\n",
              "  </svg>\n",
              "      </button>\n",
              "      \n",
              "  <style>\n",
              "    .colab-df-container {\n",
              "      display:flex;\n",
              "      flex-wrap:wrap;\n",
              "      gap: 12px;\n",
              "    }\n",
              "\n",
              "    .colab-df-convert {\n",
              "      background-color: #E8F0FE;\n",
              "      border: none;\n",
              "      border-radius: 50%;\n",
              "      cursor: pointer;\n",
              "      display: none;\n",
              "      fill: #1967D2;\n",
              "      height: 32px;\n",
              "      padding: 0 0 0 0;\n",
              "      width: 32px;\n",
              "    }\n",
              "\n",
              "    .colab-df-convert:hover {\n",
              "      background-color: #E2EBFA;\n",
              "      box-shadow: 0px 1px 2px rgba(60, 64, 67, 0.3), 0px 1px 3px 1px rgba(60, 64, 67, 0.15);\n",
              "      fill: #174EA6;\n",
              "    }\n",
              "\n",
              "    [theme=dark] .colab-df-convert {\n",
              "      background-color: #3B4455;\n",
              "      fill: #D2E3FC;\n",
              "    }\n",
              "\n",
              "    [theme=dark] .colab-df-convert:hover {\n",
              "      background-color: #434B5C;\n",
              "      box-shadow: 0px 1px 3px 1px rgba(0, 0, 0, 0.15);\n",
              "      filter: drop-shadow(0px 1px 2px rgba(0, 0, 0, 0.3));\n",
              "      fill: #FFFFFF;\n",
              "    }\n",
              "  </style>\n",
              "\n",
              "      <script>\n",
              "        const buttonEl =\n",
              "          document.querySelector('#df-1948017e-d114-479c-819e-b6618f549857 button.colab-df-convert');\n",
              "        buttonEl.style.display =\n",
              "          google.colab.kernel.accessAllowed ? 'block' : 'none';\n",
              "\n",
              "        async function convertToInteractive(key) {\n",
              "          const element = document.querySelector('#df-1948017e-d114-479c-819e-b6618f549857');\n",
              "          const dataTable =\n",
              "            await google.colab.kernel.invokeFunction('convertToInteractive',\n",
              "                                                     [key], {});\n",
              "          if (!dataTable) return;\n",
              "\n",
              "          const docLinkHtml = 'Like what you see? Visit the ' +\n",
              "            '<a target=\"_blank\" href=https://colab.research.google.com/notebooks/data_table.ipynb>data table notebook</a>'\n",
              "            + ' to learn more about interactive tables.';\n",
              "          element.innerHTML = '';\n",
              "          dataTable['output_type'] = 'display_data';\n",
              "          await google.colab.output.renderOutput(dataTable, element);\n",
              "          const docLink = document.createElement('div');\n",
              "          docLink.innerHTML = docLinkHtml;\n",
              "          element.appendChild(docLink);\n",
              "        }\n",
              "      </script>\n",
              "    </div>\n",
              "  </div>\n",
              "  "
            ],
            "text/plain": [
              "   features  score\n",
              "0      tool      3\n",
              "1     learn      2\n",
              "2   develop      2\n",
              "3     studi      2\n",
              "4  principl      2\n",
              "5   network      2\n",
              "6   student      2\n",
              "7     basic      2\n",
              "8      help      1\n",
              "9    experi      1"
            ]
          },
          "metadata": {},
          "execution_count": 21
        }
      ]
    },
    {
      "cell_type": "code",
      "source": [
        "#construction du data frame contenant les mots les plus fréquents du vocabulaire\n",
        "Data_tf = tf_bagof_words.toarray()\n",
        "n_docs, n_terms = Data_tf.shape\n",
        "tf_sum = np.sum(Data_tf, axis=0)\n",
        "df_plot = top_feats(tf_sum, features_tf)\n",
        "df_plot"
      ],
      "metadata": {
        "colab": {
          "base_uri": "https://localhost:8080/",
          "height": 833
        },
        "id": "jbUaiUVJYOBr",
        "outputId": "d0687f0b-b016-40bf-b9c6-e9c886cb3d6f"
      },
      "execution_count": 22,
      "outputs": [
        {
          "output_type": "execute_result",
          "data": {
            "text/html": [
              "\n",
              "  <div id=\"df-49f7c0e5-7a8f-43be-b99b-5690b61b8721\">\n",
              "    <div class=\"colab-df-container\">\n",
              "      <div>\n",
              "<style scoped>\n",
              "    .dataframe tbody tr th:only-of-type {\n",
              "        vertical-align: middle;\n",
              "    }\n",
              "\n",
              "    .dataframe tbody tr th {\n",
              "        vertical-align: top;\n",
              "    }\n",
              "\n",
              "    .dataframe thead th {\n",
              "        text-align: right;\n",
              "    }\n",
              "</style>\n",
              "<table border=\"1\" class=\"dataframe\">\n",
              "  <thead>\n",
              "    <tr style=\"text-align: right;\">\n",
              "      <th></th>\n",
              "      <th>features</th>\n",
              "      <th>score</th>\n",
              "    </tr>\n",
              "  </thead>\n",
              "  <tbody>\n",
              "    <tr>\n",
              "      <th>0</th>\n",
              "      <td>use</td>\n",
              "      <td>16002</td>\n",
              "    </tr>\n",
              "    <tr>\n",
              "      <th>1</th>\n",
              "      <td>model</td>\n",
              "      <td>11522</td>\n",
              "    </tr>\n",
              "    <tr>\n",
              "      <th>2</th>\n",
              "      <td>system</td>\n",
              "      <td>10596</td>\n",
              "    </tr>\n",
              "    <tr>\n",
              "      <th>3</th>\n",
              "      <td>base</td>\n",
              "      <td>10561</td>\n",
              "    </tr>\n",
              "    <tr>\n",
              "      <th>4</th>\n",
              "      <td>paper</td>\n",
              "      <td>9650</td>\n",
              "    </tr>\n",
              "    <tr>\n",
              "      <th>5</th>\n",
              "      <td>data</td>\n",
              "      <td>9238</td>\n",
              "    </tr>\n",
              "    <tr>\n",
              "      <th>6</th>\n",
              "      <td>propos</td>\n",
              "      <td>8942</td>\n",
              "    </tr>\n",
              "    <tr>\n",
              "      <th>7</th>\n",
              "      <td>method</td>\n",
              "      <td>8073</td>\n",
              "    </tr>\n",
              "    <tr>\n",
              "      <th>8</th>\n",
              "      <td>result</td>\n",
              "      <td>7674</td>\n",
              "    </tr>\n",
              "    <tr>\n",
              "      <th>9</th>\n",
              "      <td>algorithm</td>\n",
              "      <td>7395</td>\n",
              "    </tr>\n",
              "    <tr>\n",
              "      <th>10</th>\n",
              "      <td>approach</td>\n",
              "      <td>7126</td>\n",
              "    </tr>\n",
              "    <tr>\n",
              "      <th>11</th>\n",
              "      <td>problem</td>\n",
              "      <td>6569</td>\n",
              "    </tr>\n",
              "    <tr>\n",
              "      <th>12</th>\n",
              "      <td>present</td>\n",
              "      <td>6231</td>\n",
              "    </tr>\n",
              "    <tr>\n",
              "      <th>13</th>\n",
              "      <td>inform</td>\n",
              "      <td>5755</td>\n",
              "    </tr>\n",
              "    <tr>\n",
              "      <th>14</th>\n",
              "      <td>user</td>\n",
              "      <td>5614</td>\n",
              "    </tr>\n",
              "    <tr>\n",
              "      <th>15</th>\n",
              "      <td>process</td>\n",
              "      <td>5614</td>\n",
              "    </tr>\n",
              "    <tr>\n",
              "      <th>16</th>\n",
              "      <td>show</td>\n",
              "      <td>5472</td>\n",
              "    </tr>\n",
              "    <tr>\n",
              "      <th>17</th>\n",
              "      <td>perform</td>\n",
              "      <td>5392</td>\n",
              "    </tr>\n",
              "    <tr>\n",
              "      <th>18</th>\n",
              "      <td>time</td>\n",
              "      <td>5355</td>\n",
              "    </tr>\n",
              "    <tr>\n",
              "      <th>19</th>\n",
              "      <td>network</td>\n",
              "      <td>4974</td>\n",
              "    </tr>\n",
              "    <tr>\n",
              "      <th>20</th>\n",
              "      <td>develop</td>\n",
              "      <td>4905</td>\n",
              "    </tr>\n",
              "    <tr>\n",
              "      <th>21</th>\n",
              "      <td>comput</td>\n",
              "      <td>4846</td>\n",
              "    </tr>\n",
              "    <tr>\n",
              "      <th>22</th>\n",
              "      <td>provid</td>\n",
              "      <td>4820</td>\n",
              "    </tr>\n",
              "    <tr>\n",
              "      <th>23</th>\n",
              "      <td>differ</td>\n",
              "      <td>4751</td>\n",
              "    </tr>\n",
              "    <tr>\n",
              "      <th>24</th>\n",
              "      <td>set</td>\n",
              "      <td>4735</td>\n",
              "    </tr>\n",
              "  </tbody>\n",
              "</table>\n",
              "</div>\n",
              "      <button class=\"colab-df-convert\" onclick=\"convertToInteractive('df-49f7c0e5-7a8f-43be-b99b-5690b61b8721')\"\n",
              "              title=\"Convert this dataframe to an interactive table.\"\n",
              "              style=\"display:none;\">\n",
              "        \n",
              "  <svg xmlns=\"http://www.w3.org/2000/svg\" height=\"24px\"viewBox=\"0 0 24 24\"\n",
              "       width=\"24px\">\n",
              "    <path d=\"M0 0h24v24H0V0z\" fill=\"none\"/>\n",
              "    <path d=\"M18.56 5.44l.94 2.06.94-2.06 2.06-.94-2.06-.94-.94-2.06-.94 2.06-2.06.94zm-11 1L8.5 8.5l.94-2.06 2.06-.94-2.06-.94L8.5 2.5l-.94 2.06-2.06.94zm10 10l.94 2.06.94-2.06 2.06-.94-2.06-.94-.94-2.06-.94 2.06-2.06.94z\"/><path d=\"M17.41 7.96l-1.37-1.37c-.4-.4-.92-.59-1.43-.59-.52 0-1.04.2-1.43.59L10.3 9.45l-7.72 7.72c-.78.78-.78 2.05 0 2.83L4 21.41c.39.39.9.59 1.41.59.51 0 1.02-.2 1.41-.59l7.78-7.78 2.81-2.81c.8-.78.8-2.07 0-2.86zM5.41 20L4 18.59l7.72-7.72 1.47 1.35L5.41 20z\"/>\n",
              "  </svg>\n",
              "      </button>\n",
              "      \n",
              "  <style>\n",
              "    .colab-df-container {\n",
              "      display:flex;\n",
              "      flex-wrap:wrap;\n",
              "      gap: 12px;\n",
              "    }\n",
              "\n",
              "    .colab-df-convert {\n",
              "      background-color: #E8F0FE;\n",
              "      border: none;\n",
              "      border-radius: 50%;\n",
              "      cursor: pointer;\n",
              "      display: none;\n",
              "      fill: #1967D2;\n",
              "      height: 32px;\n",
              "      padding: 0 0 0 0;\n",
              "      width: 32px;\n",
              "    }\n",
              "\n",
              "    .colab-df-convert:hover {\n",
              "      background-color: #E2EBFA;\n",
              "      box-shadow: 0px 1px 2px rgba(60, 64, 67, 0.3), 0px 1px 3px 1px rgba(60, 64, 67, 0.15);\n",
              "      fill: #174EA6;\n",
              "    }\n",
              "\n",
              "    [theme=dark] .colab-df-convert {\n",
              "      background-color: #3B4455;\n",
              "      fill: #D2E3FC;\n",
              "    }\n",
              "\n",
              "    [theme=dark] .colab-df-convert:hover {\n",
              "      background-color: #434B5C;\n",
              "      box-shadow: 0px 1px 3px 1px rgba(0, 0, 0, 0.15);\n",
              "      filter: drop-shadow(0px 1px 2px rgba(0, 0, 0, 0.3));\n",
              "      fill: #FFFFFF;\n",
              "    }\n",
              "  </style>\n",
              "\n",
              "      <script>\n",
              "        const buttonEl =\n",
              "          document.querySelector('#df-49f7c0e5-7a8f-43be-b99b-5690b61b8721 button.colab-df-convert');\n",
              "        buttonEl.style.display =\n",
              "          google.colab.kernel.accessAllowed ? 'block' : 'none';\n",
              "\n",
              "        async function convertToInteractive(key) {\n",
              "          const element = document.querySelector('#df-49f7c0e5-7a8f-43be-b99b-5690b61b8721');\n",
              "          const dataTable =\n",
              "            await google.colab.kernel.invokeFunction('convertToInteractive',\n",
              "                                                     [key], {});\n",
              "          if (!dataTable) return;\n",
              "\n",
              "          const docLinkHtml = 'Like what you see? Visit the ' +\n",
              "            '<a target=\"_blank\" href=https://colab.research.google.com/notebooks/data_table.ipynb>data table notebook</a>'\n",
              "            + ' to learn more about interactive tables.';\n",
              "          element.innerHTML = '';\n",
              "          dataTable['output_type'] = 'display_data';\n",
              "          await google.colab.output.renderOutput(dataTable, element);\n",
              "          const docLink = document.createElement('div');\n",
              "          docLink.innerHTML = docLinkHtml;\n",
              "          element.appendChild(docLink);\n",
              "        }\n",
              "      </script>\n",
              "    </div>\n",
              "  </div>\n",
              "  "
            ],
            "text/plain": [
              "     features  score\n",
              "0         use  16002\n",
              "1       model  11522\n",
              "2      system  10596\n",
              "3        base  10561\n",
              "4       paper   9650\n",
              "5        data   9238\n",
              "6      propos   8942\n",
              "7      method   8073\n",
              "8      result   7674\n",
              "9   algorithm   7395\n",
              "10   approach   7126\n",
              "11    problem   6569\n",
              "12    present   6231\n",
              "13     inform   5755\n",
              "14       user   5614\n",
              "15    process   5614\n",
              "16       show   5472\n",
              "17    perform   5392\n",
              "18       time   5355\n",
              "19    network   4974\n",
              "20    develop   4905\n",
              "21     comput   4846\n",
              "22     provid   4820\n",
              "23     differ   4751\n",
              "24        set   4735"
            ]
          },
          "metadata": {},
          "execution_count": 22
        }
      ]
    },
    {
      "cell_type": "code",
      "source": [
        "#Visualisation des mots les plus fréquents\n",
        "top_f = df_plot.features\n",
        "top_v = df_plot.score\n",
        "DF = pd.DataFrame({'Words':top_f, 'TF':top_v})\n",
        "DF.plot.bar(x='Words', y='TF', rot=90, color=\"b\", alpha=0.9, edgecolor='k', linewidth=1, \n",
        "            title =\"Most frequent words with TF Vectorizer\");"
      ],
      "metadata": {
        "colab": {
          "base_uri": "https://localhost:8080/",
          "height": 562
        },
        "id": "i5wC8c_GepL3",
        "outputId": "1b83ae19-9462-45a9-90f0-c295078b5f77"
      },
      "execution_count": 23,
      "outputs": [
        {
          "output_type": "display_data",
          "data": {
            "image/png": "[encoded data removed]",
            "text/plain": [
              "<Figure size 1080x576 with 1 Axes>"
            ]
          },
          "metadata": {}
        }
      ]
    },
    {
      "cell_type": "markdown",
      "source": [
        "Avec le vectorizer TF, le mot le plus frequent du vocabulaire est `use` avec 16002 occurences ensuite `model` avec 11522.\n"
      ],
      "metadata": {
        "id": "biQ_kBBPgatJ"
      }
    },
    {
      "cell_type": "markdown",
      "source": [
        "## EXERCICE 3: MISE EN PLACE MOTEUR DE RECHERCHE\n",
        " Les calculs sont effectués pour cette sous-section en utilisant le ponderateur TF"
      ],
      "metadata": {
        "id": "ypl8bV5Ijo5z"
      }
    },
    {
      "cell_type": "code",
      "source": [
        "# function to compute the cosinus between 2 vectors\n",
        "def cosinus(i, j):\n",
        "    num = np.dot(i, j)\n",
        "    den = math.sqrt(sum(i*i))*math.sqrt(sum(j*j))\n",
        "    if (den>0):    \n",
        "        return (num/den)\n",
        "    else:\n",
        "        return 0"
      ],
      "metadata": {
        "id": "qWjurJA-nWEo"
      },
      "execution_count": 24,
      "outputs": []
    },
    {
      "cell_type": "markdown",
      "source": [
        "1. formuler une requête sous la forme d’une liste de mots"
      ],
      "metadata": {
        "id": "pLC92_oUssQh"
      }
    },
    {
      "cell_type": "code",
      "source": [
        "#query as a list of words\n",
        "query_tf = [\"use\", \"model\", \"system\", \"base\"]\n",
        "indexes_tf = [features_tf.index(q) for q in query_tf if q in features_tf]\n",
        "print(indexes_tf)"
      ],
      "metadata": {
        "colab": {
          "base_uri": "https://localhost:8080/"
        },
        "id": "i_phYkB4epQf",
        "outputId": "28655624-fcd8-46e4-f3ee-dc0e0047f857"
      },
      "execution_count": 28,
      "outputs": [
        {
          "output_type": "stream",
          "name": "stdout",
          "text": [
            "[28416, 16595, 25888, 2177]\n"
          ]
        }
      ]
    },
    {
      "cell_type": "markdown",
      "source": [
        "2. construire un pseudo-document correspondant à la requête, c.a.d un vecteur-requête dans le même espace que les documents(abstracts)"
      ],
      "metadata": {
        "id": "O5tHJZw9sYuE"
      }
    },
    {
      "cell_type": "code",
      "source": [
        "#we build a vector of same size as the vocabulary. int it to 0, \n",
        "#then set the value of the request terms to 1. with n_terms=30182\n",
        "query_vec_tf = np.zeros(n_terms)\n",
        "query_vec_tf[indexes_tf] = 1"
      ],
      "metadata": {
        "id": "W0Ijrch7mMO0"
      },
      "execution_count": 29,
      "outputs": []
    },
    {
      "cell_type": "markdown",
      "source": [
        "3.4. Fonction qui permet de comparer le vecteur-requête avec tous les vecteurs documents (c.a.d les lignes de la matrice). Ensuite range le vecteur des scores par ordre decroissant. "
      ],
      "metadata": {
        "id": "UnMtqFy-s0OQ"
      }
    },
    {
      "cell_type": "code",
      "source": [
        "# fonction qui crée un dictionnaire associant le cosinus à chaque documents(abstract)\n",
        "# puis effectue un tri de manière décroissante\n",
        "def search(q, Data):\n",
        "    cc = {i: cosinus(Data[i, :], q) for i in range(n_docs)}\n",
        "    cc = sorted(cc.items(), key=lambda x: x[1], reverse=True)\n",
        "    return cc"
      ],
      "metadata": {
        "id": "FX7BxtwdsMV7"
      },
      "execution_count": 30,
      "outputs": []
    },
    {
      "cell_type": "code",
      "source": [
        "%%time\n",
        "result_tf = search(query_vec_tf, Data_tf)"
      ],
      "metadata": {
        "colab": {
          "base_uri": "https://localhost:8080/"
        },
        "id": "CozhBWRotebG",
        "outputId": "e8f13c25-ab8d-4fe8-f013-81efa0d50ba5"
      },
      "execution_count": 31,
      "outputs": [
        {
          "output_type": "stream",
          "name": "stdout",
          "text": [
            "CPU times: user 6min 22s, sys: 4min 58s, total: 11min 20s\n",
            "Wall time: 5min 47s\n"
          ]
        }
      ]
    },
    {
      "cell_type": "markdown",
      "source": [
        "5. Afficher les documents qui ont obtenu les meilleurs scores.\n"
      ],
      "metadata": {
        "id": "BZu1MzN5t6OT"
      }
    },
    {
      "cell_type": "code",
      "source": [
        "#pour afficher les 5 premiers resultats\n",
        "result_tf[0:5]"
      ],
      "metadata": {
        "colab": {
          "base_uri": "https://localhost:8080/"
        },
        "id": "0oQ3iEYptj15",
        "outputId": "7ce4b942-b2b4-4c87-df28-fb92f9b4fc99"
      },
      "execution_count": 32,
      "outputs": [
        {
          "output_type": "execute_result",
          "data": {
            "text/plain": [
              "[(4508, 0.6249324287797365),\n",
              " (3160, 0.6240377207533828),\n",
              " (3533, 0.5922801330182954),\n",
              " (7490, 0.5756926422568069),\n",
              " (13385, 0.5640760748177662)]"
            ]
          },
          "metadata": {},
          "execution_count": 32
        }
      ]
    },
    {
      "cell_type": "code",
      "source": [
        "nb_top_docs = 5\n",
        "top_docs = [r for (r,v) in result_tf[0:nb_top_docs]]\n",
        "print(top_docs)"
      ],
      "metadata": {
        "colab": {
          "base_uri": "https://localhost:8080/"
        },
        "id": "CH-tW80etj5F",
        "outputId": "17a29369-52e7-4c06-e3ee-5130b8b2dfdf"
      },
      "execution_count": 33,
      "outputs": [
        {
          "output_type": "stream",
          "name": "stdout",
          "text": [
            "[4508, 3160, 3533, 7490, 13385]\n"
          ]
        }
      ]
    },
    {
      "cell_type": "code",
      "source": [
        "#pour afficher les documents avec les 5 meilleurs scores\n",
        "for i, td in zip(range(nb_top_docs), top_docs):\n",
        "    print(\"%s (%s): %s\" % (i+1, td, corpus.abstract[td]))"
      ],
      "metadata": {
        "colab": {
          "base_uri": "https://localhost:8080/"
        },
        "id": "djg2c1c1uJnm",
        "outputId": "b4fa8538-bf35-4b1a-9fc7-1ac64b05569f"
      },
      "execution_count": 34,
      "outputs": [
        {
          "output_type": "stream",
          "name": "stdout",
          "text": [
            "1 (4508): simul becom indispens tool research explor system without recours real experi depend characterist model system method use repres system may vari multi agent system thus often use model simul complex system whatev model type use increas size precis model increas amount comput requir use parallel system becom larg paper focus parallel platform support multi agent simul contribut survey exist platform evalu context high perform comput present qualit analysi main base platform properti perform comparison use agent model implement platform\n",
            "2 (3160): simul base design develop servic base softwar system sb import analyz model correct improv confid valid model particular interest sb simul model use toward evalu time depend qos metric e g servic delay throughput etc paper experi base valid servic base softwar system use soc dev e servic orient comput dev framework present formal basi toward valid real system consider abstract dev system model experi develop observ time base trajectori exemplar voic communic system simul result analyz toward model valid w r real system prototyp\n",
            "3 (3533): mathemat model frequent use model biolog system particular within field cardiac electrophysiolog system typic model continu fashion use ordinari differenti equat ode simul use custom comput program creat general purpos languag sever domain specif languag dsl creat ea difficulti program biolog model includ cellml howev model dsl monolith interdepend system hinder possibl reus specialis paper introduc ode languag type dsl describ ode base biolog model structur manner type system use valid model includ autom check convers unit measur introduc modul system influenc parameteris modul ocaml allow specialis instanti compil time modul parameteris provid great flexibl enabl creation reusabl abstract model compon compon may compos specialis creat larger model type system use generat modul interfac guid success modul composit parameteris modul may use instanc abstract model stimulus protocol modifi paramet sever exampl given implement detail discus\n",
            "4 (7490): cope grow complex embed system design sever develop approach propos popular use model main artifact construct maintain want role model ea systemat standard approach construct softwar base system order enforc reus interconnect process model specif system develop model promot model base approach coupl repositori model paper propos model driven engin methodolog approach develop repositori model oper architectur develop tool particular show feasibl approach report preliminari prototyp provid model base repositori secur depend pattern model\n",
            "5 (13385): paper address problem verifi properti behaviour base system use control robot behaviour base system typic consist mani interconnect compon behaviour combin realis system overal function connect behaviour crucial correct oper system therefor key properti behaviour base system verifi base behaviour interconnect paper describ behaviour base network automat model use finit state machin model check uppaal toolbox appli verif analysi task\n"
          ]
        }
      ]
    },
    {
      "cell_type": "markdown",
      "source": [
        "# EXPERIENCES"
      ],
      "metadata": {
        "id": "HnBpcFM7Y3b2"
      }
    },
    {
      "cell_type": "markdown",
      "source": [
        "b) Changer la taille du vocabulaire. utiliser les 500 mots les plus frequents ainsi que 5000 mots choisis alleatoirement"
      ],
      "metadata": {
        "id": "W8py_M13Y9-I"
      }
    },
    {
      "cell_type": "code",
      "source": [
        "def top_feats(row, features, top_n=500):#n=500 to chose the 500 most ferquent words\n",
        "    ''' Get top n tfidf values in row and return them with their corresponding feature names.'''\n",
        "    topn_ids = np.argsort(row)[::-1][:top_n]\n",
        "    top_feats = [(features[i], row[i]) for i in topn_ids if row[i]>0]\n",
        "    df = pd.DataFrame(top_feats)\n",
        "    if len(top_feats) > 0:\n",
        "        df.columns = ['features', 'score']\n",
        "    return df\n",
        "\n",
        "def top_feats_in_doc(Xtr, features, row_id, top_n=500):\n",
        "    ''' Top features in specific document (matrix row) '''\n",
        "    row = np.squeeze(Xtr[row_id].toarray())\n",
        "    return top_feats(row, features, top_n)"
      ],
      "metadata": {
        "id": "eY4ufI91bf8b"
      },
      "execution_count": 39,
      "outputs": []
    },
    {
      "cell_type": "code",
      "source": [
        "#chose the 500 most frequent words in the dictionnary\n",
        "most_fw_500 = tf_bagof_words.toarray()\n",
        "n_docs, n_terms = most_fw_500.shape\n",
        "tf_sum = np.sum(most_fw_500, axis=0)\n",
        "df_plot = top_feats(tf_sum, features_tf)"
      ],
      "metadata": {
        "id": "Ljmxm5bObuWm"
      },
      "execution_count": 40,
      "outputs": []
    },
    {
      "cell_type": "code",
      "source": [
        "#construct a bag of words with 5000 randomnly chosen documents\n",
        "tf_Vectorizer_5000 = CountVectorizer().fit(corpus[\"abstract\"].sample(n=5000))\n",
        "tf_bagof_words_5000 = tf_Vectorizer_5000.transform(corpus[\"abstract\"].sample(n=5000))\n",
        "print(\"The shape of sparse matrix of 5000 documents is: \", tf_bagof_words_5000.shape)"
      ],
      "metadata": {
        "colab": {
          "base_uri": "https://localhost:8080/"
        },
        "id": "xDfNdHnJdkZp",
        "outputId": "97428a48-0e92-45a6-af30-5227628fc300"
      },
      "execution_count": 78,
      "outputs": [
        {
          "output_type": "stream",
          "name": "stdout",
          "text": [
            "The shape of sparse matrix of 5000 documents is:  (5000, 16375)\n"
          ]
        }
      ]
    },
    {
      "cell_type": "code",
      "source": [
        "#creé une liste qui contient les 5000 mots du dictionnaire \n",
        "features_tf_5000 = tf_Vectorizer_5000.get_feature_names()"
      ],
      "metadata": {
        "colab": {
          "base_uri": "https://localhost:8080/"
        },
        "id": "BAkMJyEPqRV_",
        "outputId": "edc7c97a-1cea-44a0-94a5-c333900cc6dd"
      },
      "execution_count": 79,
      "outputs": [
        {
          "output_type": "stream",
          "name": "stderr",
          "text": [
            "/usr/local/lib/python3.7/dist-packages/sklearn/utils/deprecation.py:87: FutureWarning: Function get_feature_names is deprecated; get_feature_names is deprecated in 1.0 and will be removed in 1.2. Please use get_feature_names_out instead.\n",
            "  warnings.warn(msg, category=FutureWarning)\n"
          ]
        }
      ]
    },
    {
      "cell_type": "code",
      "source": [
        "#to create a query vector containing the 500 most frequents words\n",
        "query_500 = []\n",
        "for i in range(0, df_plot.shape[0]):\n",
        "  word = df_plot[\"features\"][i]\n",
        "  query_500.append(word)"
      ],
      "metadata": {
        "id": "ZAuk73e9gJNy"
      },
      "execution_count": 70,
      "outputs": []
    },
    {
      "cell_type": "code",
      "source": [
        "#afficher la requête contenant les 500 mots les plus fréquents\n",
        "np.transpose(query_500[0:100])"
      ],
      "metadata": {
        "colab": {
          "base_uri": "https://localhost:8080/"
        },
        "id": "4of2ooQXlMuW",
        "outputId": "21781941-cddc-44da-9f4c-e581484ca6ce"
      },
      "execution_count": 91,
      "outputs": [
        {
          "output_type": "execute_result",
          "data": {
            "text/plain": [
              "array(['use', 'model', 'system', 'base', 'paper', 'data', 'propos',\n",
              "       'method', 'result', 'algorithm', 'approach', 'problem', 'present',\n",
              "       'inform', 'user', 'process', 'show', 'perform', 'time', 'network',\n",
              "       'develop', 'comput', 'provid', 'differ', 'set', 'studi', 'applic',\n",
              "       'design', 'new', 'two', 'imag', 'learn', 'also', 'one', 'evalu',\n",
              "       'work', 'featur', 'analysi', 'research', 'effect', 'improv',\n",
              "       'techniqu', 'function', 'requir', 'object', 'optim', 'servic',\n",
              "       'experi', 'relat', 'effici', 'order', 'structur', 'number',\n",
              "       'implement', 'task', 'high', 'framework', 'howev', 'support',\n",
              "       'well', 'detect', 'test', 'case', 'complex', 'generat', 'real',\n",
              "       'first', 'level', 'compar', 'control', 'interact', 'exist',\n",
              "       'specif', 'knowledg', 'languag', 'measur', 'larg', 'import',\n",
              "       'state', 'appli', 'oper', 'allow', 'tool', 'search', 'solut',\n",
              "       'consid', 'mani', 'need', 'graph', 'increas', 'introduc',\n",
              "       'program', 'softwar', 'describ', 'distribut', 'simul', 'web',\n",
              "       'social', 'secur', 'make'], dtype='<U9')"
            ]
          },
          "metadata": {},
          "execution_count": 91
        }
      ]
    },
    {
      "cell_type": "code",
      "source": [
        "#pour verifier les indexes des 500 mots les plus frequents dans nos 5000 documents choisi alleatoirement \n",
        "indexes_500 = [features_tf_5000.index(q) for q in query_500 if q in features_tf_5000]\n",
        "print(indexes_500[0:20])"
      ],
      "metadata": {
        "colab": {
          "base_uri": "https://localhost:8080/"
        },
        "id": "tNWABgXE6xcb",
        "outputId": "3be76715-54b3-4688-c459-686a37e914c6"
      },
      "execution_count": 80,
      "outputs": [
        {
          "output_type": "stream",
          "name": "stdout",
          "text": [
            "[15465, 9023, 14076, 1173, 10362, 3218, 11373, 8759, 12150, 383, 722, 11281, 11189, 6968, 15470, 11295, 12982, 10605, 14580, 9545]\n"
          ]
        }
      ]
    },
    {
      "cell_type": "code",
      "source": [
        "#we build a vector of same size as the vocabulary. int it to 0, \n",
        "#then set the value of the request terms to 1. with n_terms=30182\n",
        "query_vec_500 = np.zeros(n_terms)\n",
        "query_vec_500[indexes_500] = 1"
      ],
      "metadata": {
        "id": "Hh2CDQXXnPsX"
      },
      "execution_count": 81,
      "outputs": []
    },
    {
      "cell_type": "code",
      "source": [
        "%%time\n",
        "result_500 = search(query_vec_500, most_fw_500)"
      ],
      "metadata": {
        "colab": {
          "base_uri": "https://localhost:8080/"
        },
        "id": "1AgFcITG6xpy",
        "outputId": "4638496d-5a93-4d20-cd97-ba65cc6438f5"
      },
      "execution_count": 82,
      "outputs": [
        {
          "output_type": "stream",
          "name": "stdout",
          "text": [
            "CPU times: user 6min 28s, sys: 4min 55s, total: 11min 23s\n",
            "Wall time: 5min 48s\n"
          ]
        }
      ]
    },
    {
      "cell_type": "code",
      "source": [
        "#pour afficher les 5 premiers resultats\n",
        "result_500[0:5]"
      ],
      "metadata": {
        "colab": {
          "base_uri": "https://localhost:8080/"
        },
        "id": "x8Dtdg7MsK99",
        "outputId": "4e28bcdf-1c58-4720-d522-795a39604f72"
      },
      "execution_count": 84,
      "outputs": [
        {
          "output_type": "execute_result",
          "data": {
            "text/plain": [
              "[(12038, 0.03905498468561694),\n",
              " (3741, 0.03872983346207417),\n",
              " (4319, 0.03859055284950928),\n",
              " (9801, 0.037546718865447824),\n",
              " (3691, 0.03632696097723621)]"
            ]
          },
          "metadata": {},
          "execution_count": 84
        }
      ]
    },
    {
      "cell_type": "code",
      "source": [
        "nb_top_docs = 5\n",
        "top_docs = [r for (r,v) in result_500[0:nb_top_docs]]\n",
        "print(top_docs)"
      ],
      "metadata": {
        "colab": {
          "base_uri": "https://localhost:8080/"
        },
        "id": "o7a7I-2JsLAu",
        "outputId": "0512540d-7d24-4874-a6d5-3c018440d279"
      },
      "execution_count": 85,
      "outputs": [
        {
          "output_type": "stream",
          "name": "stdout",
          "text": [
            "[12038, 3741, 4319, 9801, 3691]\n"
          ]
        }
      ]
    },
    {
      "cell_type": "code",
      "source": [
        "#pour afficher les documents avec les 5 meilleurs scores\n",
        "for i, td in zip(range(nb_top_docs), top_docs):\n",
        "    print(\"%s (%s): %s\" % (i+1, td, corpus.abstract[td]))"
      ],
      "metadata": {
        "colab": {
          "base_uri": "https://localhost:8080/"
        },
        "id": "8FvbrpTFsLDW",
        "outputId": "487bd7d9-cfd9-4d99-b77e-c6d0b688ea85"
      },
      "execution_count": 86,
      "outputs": [
        {
          "output_type": "stream",
          "name": "stdout",
          "text": [
            "1 (12038): paper bimanu gestur interfac use data glove present build upon past contribut gestur interfac bimanu interact creat effici intuit gestur interfac use wide varieti immers virtual environ base real world biman ual interact propos interfac use hand asymmetr style left hand provid mode interact right hand act finer level detail valid effici interfac design compar ativ studi propos two hand interfac one hand variant conduct group right hand user result experi support bimanu interfac effici unimanu one ex pect interfac conclus drawn experi use guid effici design futur bimanu gestur interfac\n",
            "2 (3741): review deegan marilyn mccarthi willard ed collabor research digit human farnham ashgat\n",
            "3 (4319): deliv negat perform feedback inevit workplac howev recipi may feel uncomfort behav defens may unwil accept negat feedback main fear lose face unproduct respons heighten negat feedback deliv comput mediat communic cmc channel mani nonverb cue face face communic use allevi concern lose face studi examin effect emoticon design surrog facial express cmc environ convey social emot signal feedback provid specif base feedback process model disson reduct theori studi investig differ effect two type emoticon e like dislik one accept negat feedback consid feedback specif conting factor result suggest use like emoticon increas perceiv good intent feedback provid decreas perceiv feedback negat feedback specif howev signific effect unspecif feedback contrast result suggest use dislik emoticon decreas perceiv good intent feedback provid increas perceiv feedback negat feedback unspecif wherea effect signific specif feedback turn perceiv good intent feedback provid perceiv feedback negat affect accept negat feedback\n",
            "4 (9801): negat inform play import role fuzzi knowledg represent reason paper distinguish contradictori negat relat opposit negat relat fuzzi inform characterist fuzzi inform discov pair opposit concept fuzzi concept must exist medium fuzzi concept convers medium fuzzi concept two opposit concept opposit concept must fuzzi concept thus consid negat fuzzi inform includ contradictori negat opposit negat medium negat order provid logic basi three kind negat fuzzi inform propos fuzzi proposit logic contradictori negat opposit negat medium negat flcom discus interest properti flcom present semant interpret flcom prove reliabl theorem\n",
            "5 (3691): wide recogn inbreed mate sult increas homozygos general lead decreas fit popul conclus support larg number experiment observ natur popul howev theo retic analysi phenomenon still lack present theoret proof show natur popul inbreed mate reduc mean fit popul also suggest inbreed depress depend mate system also structur popul consequ conclud natur inbreed popul without inbreed depress genotyp addit co domin result give expla nation question hermaphrodit popul show sever inbreed depress anoth major result research larg inbreed popul direct relat geno type fit mean fit increas monoton valu inbreed coeffici result may provid reason explain frequent occurr self fertil popul also charac teriz pseudo overdomin singl locus suggest mani pseudo overdomin popul among class domin popul\n"
          ]
        }
      ]
    },
    {
      "cell_type": "markdown",
      "source": [
        "On constate une plus forte occurances des mots les plus frequents comme `use` et `model` lorsqu'on reduit la taille du dictonnaire"
      ],
      "metadata": {
        "id": "s4wohkb8vYdZ"
      }
    },
    {
      "cell_type": "markdown",
      "source": [
        "a) Changer le schema de ponderation. Vectorizer TF-IDF"
      ],
      "metadata": {
        "id": "pNTtto8ivIZz"
      }
    },
    {
      "cell_type": "code",
      "source": [
        "#instantiate and fit the vectorizer tfidf\n",
        "tfidf_Vectorizer = TfidfVectorizer().fit(corpus[\"abstract\"])\n",
        "tfidf_bagof_words = tfidf_Vectorizer.transform(corpus[\"abstract\"])\n",
        "Data_tfidf = tfidf_bagof_words.toarray()\n",
        "print(\"The shape of sparse matrix using TF-idf vectorizer is: \", tfidf_bagof_words.shape)"
      ],
      "metadata": {
        "colab": {
          "base_uri": "https://localhost:8080/"
        },
        "id": "JlYAKRVtvTF8",
        "outputId": "412605cc-7018-4c7c-d8c0-8a9a5b8c47bb"
      },
      "execution_count": 96,
      "outputs": [
        {
          "output_type": "stream",
          "name": "stdout",
          "text": [
            "The shape of sparse matrix using TF-idf vectorizer is:  (15271, 30182)\n"
          ]
        }
      ]
    },
    {
      "cell_type": "code",
      "source": [
        "#query as a list of words\n",
        "query = [\"use\", \"model\", \"system\", \"base\"]\n",
        "indexes_tfidf = [features_tfidf.index(q) for q in query if q in features_tfidf]\n",
        "print(indexes_tfidf)"
      ],
      "metadata": {
        "colab": {
          "base_uri": "https://localhost:8080/"
        },
        "id": "-n3xpmR_vTP5",
        "outputId": "75390647-dda3-4cff-d802-ba2ef798f503"
      },
      "execution_count": 94,
      "outputs": [
        {
          "output_type": "stream",
          "name": "stdout",
          "text": [
            "[28416, 16595, 25888, 2177]\n"
          ]
        }
      ]
    },
    {
      "cell_type": "code",
      "source": [
        "#we build a vector of same size as the vocabulary. int it to 0, \n",
        "#then set the value of the request terms to 1. with n_terms=30182\n",
        "query_vec_tfidf = np.zeros(n_terms)\n",
        "query_vec_tfidf[indexes_tfidf] = 1"
      ],
      "metadata": {
        "id": "vknUAoAuw8N7"
      },
      "execution_count": 95,
      "outputs": []
    },
    {
      "cell_type": "code",
      "source": [
        "result_tfidf = search(query_vec_tfidf, Data_tfidf)"
      ],
      "metadata": {
        "id": "IxX81J6zw8RV"
      },
      "execution_count": 98,
      "outputs": []
    },
    {
      "cell_type": "code",
      "source": [
        "result_tfidf[0:5]"
      ],
      "metadata": {
        "colab": {
          "base_uri": "https://localhost:8080/"
        },
        "id": "jDAG9BaAw8UZ",
        "outputId": "28abf66f-7899-40f3-bde6-b1a0e5a25c88"
      },
      "execution_count": 99,
      "outputs": [
        {
          "output_type": "execute_result",
          "data": {
            "text/plain": [
              "[(7490, 0.40018864637669005),\n",
              " (4508, 0.3861384871746192),\n",
              " (3160, 0.3353657137601395),\n",
              " (12041, 0.3235424904102695),\n",
              " (13585, 0.3157156824863251)]"
            ]
          },
          "metadata": {},
          "execution_count": 99
        }
      ]
    },
    {
      "cell_type": "code",
      "source": [
        "nb_top_docs = 5\n",
        "top_docs = [r for (r,v) in result_tfidf[0:nb_top_docs]]\n",
        "print(top_docs)"
      ],
      "metadata": {
        "colab": {
          "base_uri": "https://localhost:8080/"
        },
        "id": "5RAVW0PevTTV",
        "outputId": "4ccfbcea-0bd4-4361-fdc4-82367d6f6893"
      },
      "execution_count": 101,
      "outputs": [
        {
          "output_type": "stream",
          "name": "stdout",
          "text": [
            "[7490, 4508, 3160, 12041, 13585]\n"
          ]
        }
      ]
    },
    {
      "cell_type": "code",
      "source": [
        "#pour afficher les documents (abtracts) les plus pertinents pour la requête. Methode de ponderation TF\n",
        "for i, td in zip(range(nb_top_docs), top_docs):\n",
        "    print(\"%s (%s): %s\" % (i+1, td, corpus.abstract[td]))"
      ],
      "metadata": {
        "colab": {
          "base_uri": "https://localhost:8080/"
        },
        "id": "8D7h-cMp_3-k",
        "outputId": "29e4c1e3-5d35-403d-ca84-2ab94685bc89"
      },
      "execution_count": 35,
      "outputs": [
        {
          "output_type": "stream",
          "name": "stdout",
          "text": [
            "1 (4508): simul becom indispens tool research explor system without recours real experi depend characterist model system method use repres system may vari multi agent system thus often use model simul complex system whatev model type use increas size precis model increas amount comput requir use parallel system becom larg paper focus parallel platform support multi agent simul contribut survey exist platform evalu context high perform comput present qualit analysi main base platform properti perform comparison use agent model implement platform\n",
            "2 (3160): simul base design develop servic base softwar system sb import analyz model correct improv confid valid model particular interest sb simul model use toward evalu time depend qos metric e g servic delay throughput etc paper experi base valid servic base softwar system use soc dev e servic orient comput dev framework present formal basi toward valid real system consider abstract dev system model experi develop observ time base trajectori exemplar voic communic system simul result analyz toward model valid w r real system prototyp\n",
            "3 (3533): mathemat model frequent use model biolog system particular within field cardiac electrophysiolog system typic model continu fashion use ordinari differenti equat ode simul use custom comput program creat general purpos languag sever domain specif languag dsl creat ea difficulti program biolog model includ cellml howev model dsl monolith interdepend system hinder possibl reus specialis paper introduc ode languag type dsl describ ode base biolog model structur manner type system use valid model includ autom check convers unit measur introduc modul system influenc parameteris modul ocaml allow specialis instanti compil time modul parameteris provid great flexibl enabl creation reusabl abstract model compon compon may compos specialis creat larger model type system use generat modul interfac guid success modul composit parameteris modul may use instanc abstract model stimulus protocol modifi paramet sever exampl given implement detail discus\n",
            "4 (7490): cope grow complex embed system design sever develop approach propos popular use model main artifact construct maintain want role model ea systemat standard approach construct softwar base system order enforc reus interconnect process model specif system develop model promot model base approach coupl repositori model paper propos model driven engin methodolog approach develop repositori model oper architectur develop tool particular show feasibl approach report preliminari prototyp provid model base repositori secur depend pattern model\n",
            "5 (13385): paper address problem verifi properti behaviour base system use control robot behaviour base system typic consist mani interconnect compon behaviour combin realis system overal function connect behaviour crucial correct oper system therefor key properti behaviour base system verifi base behaviour interconnect paper describ behaviour base network automat model use finit state machin model check uppaal toolbox appli verif analysi task\n"
          ]
        }
      ]
    },
    {
      "cell_type": "code",
      "source": [
        "#pour afficher les documents(abtracts) les plus pertinents pour la requête. Methode de ponderation TF-IDF\n",
        "for i, td in zip(range(nb_top_docs), top_docs):\n",
        "    print(\"%s (%s): %s\" % (i+1, td, corpus.abstract[td]))"
      ],
      "metadata": {
        "colab": {
          "base_uri": "https://localhost:8080/"
        },
        "id": "J8uTBxYs2s4-",
        "outputId": "feac6735-1123-429f-afea-bff106ae3308"
      },
      "execution_count": 102,
      "outputs": [
        {
          "output_type": "stream",
          "name": "stdout",
          "text": [
            "1 (7490): cope grow complex embed system design sever develop approach propos popular use model main artifact construct maintain want role model ea systemat standard approach construct softwar base system order enforc reus interconnect process model specif system develop model promot model base approach coupl repositori model paper propos model driven engin methodolog approach develop repositori model oper architectur develop tool particular show feasibl approach report preliminari prototyp provid model base repositori secur depend pattern model\n",
            "2 (4508): simul becom indispens tool research explor system without recours real experi depend characterist model system method use repres system may vari multi agent system thus often use model simul complex system whatev model type use increas size precis model increas amount comput requir use parallel system becom larg paper focus parallel platform support multi agent simul contribut survey exist platform evalu context high perform comput present qualit analysi main base platform properti perform comparison use agent model implement platform\n",
            "3 (3160): simul base design develop servic base softwar system sb import analyz model correct improv confid valid model particular interest sb simul model use toward evalu time depend qos metric e g servic delay throughput etc paper experi base valid servic base softwar system use soc dev e servic orient comput dev framework present formal basi toward valid real system consider abstract dev system model experi develop observ time base trajectori exemplar voic communic system simul result analyz toward model valid w r real system prototyp\n",
            "4 (12041): conceptu model difficult aspect simul studi direct affect qualiti effici simul project recent studi state defici simul conceptu model gap conceptu model simul model implement work model driven develop approach appli simul obtain model continu bridg gap paper present model model transform conceptu model languag simul model specif bpmn busi process model notat use conceptu model dev discret event system specif select simul model specif bpmn model transform dev model base set pre defin model transform rule work part mdd m model driven develop framework model simul research project transform success use prototyp implement mdd m framework\n",
            "5 (13585): paper identifi discus consid three critic point stream stream enterpris model ensur use use em result continu improv organ model type target case discus paper process model relat model type e g goal model concept model also address relat process model point address paper trigger handl act symptom root caus problem critic aspect model establish mechan continu model base busi process improv\n"
          ]
        }
      ]
    },
    {
      "cell_type": "markdown",
      "source": [
        "On note une légère difference dans l'ordre d'appartion des textes les plus pertinents pour une requête contenant les mêmes mots lorsque nous changeons la methode de ponderation. Nous pouvons neanmoins constaté que les deux méthodes renvoient des documents senblables. "
      ],
      "metadata": {
        "id": "-nLZeMZz2tac"
      }
    }
  ]
}